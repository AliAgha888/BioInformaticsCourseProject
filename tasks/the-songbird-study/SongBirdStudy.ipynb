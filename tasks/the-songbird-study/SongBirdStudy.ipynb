{
 "cells": [
  {
   "cell_type": "markdown",
   "metadata": {
    "pycharm": {
     "name": "#%% md\n"
    }
   },
   "source": [
    "\n",
    "# Final Project of Introduction to Bioinformatics\n",
    "\n",
    "## The Song Bird Study"
   ]
  },
  {
   "cell_type": "markdown",
   "metadata": {
    "pycharm": {
     "name": "#%% md\n"
    }
   },
   "source": [
    "<div style=\"text-align: center;\">\n",
    "    <img src=\"SocialNetworking.png\" width=\"350\">\n",
    "</div>"
   ]
  },
  {
   "cell_type": "markdown",
   "metadata": {
    "pycharm": {
     "name": "#%% md\n"
    }
   },
   "source": [
    "### Introduction\n",
    "\n",
    "#### Investigating the Influence of Social Environment on Neural Responses to Sickness in Zebra Finches: A Bioinformatics Approach\n",
    "\n",
    "The Zebra Finch, _Taeniopygia guttata_, a widely used model organism in behavioral and neurobiological research, provides an excellent platform to study the interplay between social environment, neural function, and immune response. In this project, we delve into an intriguing scientific question: How does the social environment of these birds modulate their neural response to immune challenges?\n",
    "\n",
    "This question was explored in a study by Lopes PC, Faber-Hammond JJ, Siemonsma C, Patel S, and Renn SCP, titled _\"The social environment alters neural responses to a lipopolysaccharide challenge\"_ (Brain Behav Immun 2023). Their research demonstrated that the social environment, particularly the presence of conspecifics, could significantly modulate the neural responses of Zebra Finches to immune challenges such as lipopolysaccharide (LPS), a molecule known to induce immune responses. Link to Paper\n",
    "\n",
    "Our goal in this notebook is to revisit and build upon the findings of this study. Using RNA sequencing data from their research, we aim to conduct a comprehensive analysis of changes in gene expression across different brain regions of Zebra Finches under different social conditions. We will specifically focus on the hypothalamus, the bed nucleus of the stria terminalis, and the nucleus taeniae, all of which are key regions for understanding behavior and immune response.\n",
    "\n",
    "The essence of this project is to draw meaningful insights from high-dimensional data. We encourage you to start with basic approaches and gradually build complexity. Remember, every effort to extract information and gain insights from the data is valuable and will be recognized. Approach the tasks with curiosity and an open mind, and let your analytical journey be both informative and enjoyable.\n",
    "\n",
    "---"
   ]
  },
  {
   "cell_type": "markdown",
   "metadata": {
    "pycharm": {
     "name": "#%% md\n"
    }
   },
   "source": [
    "### Experiment Design\n",
    "\n",
    "The primary aim of this high-throughput sequencing study was to discern how different social environments could modulate the neural response to sickness induced by lipopolysaccharide (LPS).\n",
    "\n",
    "**Lipopolysaccharide (LPS)** is a large molecule consisting of a lipid and a polysaccharide, found in the outer membrane of Gram-negative bacteria. It is often referred to as an endotoxin due to its ability to trigger strong immune responses. When a Gram-negative bacterium dies, it releases its LPS, which can then find its way into the bloodstream. In the context of this study, LPS was used to simulate an immune challenge or sickness in the Zebra Finches.\n",
    "\n",
    "**The Experimental Setup:**\n",
    "\n",
    "The experiment involved male Zebra Finches, which were administered either an LPS injection to simulate sickness or a control solution. Following the injection, the birds were placed in one of four distinct social contexts:\n",
    "\n",
    "- **Isolated (ISO)**: In this setting, the birds were kept alone without a female. This condition was designed to examine the neural and immune responses of the birds in the absence of any social interactions. This group helps to understand the baseline responses to the LPS challenge when there are no social factors at play.\n",
    "- **Known Female Continuous (KFC)**: Here, the birds were continuously housed with a known female. This condition allowed the researchers to investigate the effects of a stable social environment on the birds' responses to the LPS challenge. This group can provide insights into how ongoing social interactions might influence the response to sickness.\n",
    "- **Known Female Reunited (KF)**: In this scenario, the birds were reunited with a known female after a period of separation. This condition was intended to mimic the effects of a disrupted social environment followed by a reunion. This group can shed light on how changes in social relationships might affect the neural and immune responses to sickness.\n",
    "- **Novel Female (NF)**: In this context, the birds were paired with a previously unknown female. This condition was designed to explore the effects of introducing a new social partner on the birds' responses to the LPS challenge. This group can reveal how novel social encounters might modulate the response to sickness.\n",
    "\n",
    "These social settings were carefully chosen to represent a range of social interactions that the birds might encounter in their natural habitats. The experimental design allows for a comprehensive investigation of how social environment influences the neural responses to sickness, thereby improving our understanding of how the social environment can affect health.\n",
    "\n",
    "---"
   ]
  },
  {
   "cell_type": "markdown",
   "metadata": {
    "pycharm": {
     "name": "#%% md\n"
    }
   },
   "source": [
    "### Understanding RNA-Seq\n",
    "\n",
    "RNA-Seq (RNA sequencing) is a powerful technique that uses next-generation sequencing (NGS) to reveal the presence and quantity of RNA molecules in a biological sample. It provides a snapshot of gene expression, also known as the transcriptome.\n",
    "\n",
    "**What is RNA-Seq?**\n",
    "\n",
    "RNA-Seq allows us to investigate and discover the transcriptome, which is the total cellular content of RNAs including mRNA, rRNA, and tRNA. Understanding the transcriptome is key if we are to connect the information in our genome with its functional protein expression. RNA-Seq can tell us which genes are turned on in a cell, what their level of transcription is, and at what times they are activated or shut off. This allows scientists to understand the biology of a cell more deeply and assess changes that may indicate disease.\n",
    "\n",
    "**How does RNA-Seq work?**\n",
    "\n",
    "The RNA-Seq workflow has several steps:\n",
    "\n",
    "1. **RNA extraction**: The first step involves extracting the total RNA from the sample.\n",
    "2. **Reverse transcription into cDNA**: The extracted RNA is then converted into complementary DNA (cDNA) through a process called reverse transcription.\n",
    "3. **Library preparation**: The cDNA is then used to prepare a sequencing library. This involves fragmenting the cDNA, adding sequencing adapters, and amplifying the library.\n",
    "4. **Sequencing**: The prepared library is then sequenced using high-throughput sequencing technology.\n",
    "\n",
    "**RNA-Seq Data**\n",
    "\n",
    "The output of an RNA-Seq experiment is a large set of short DNA sequences, or reads. These reads can be aligned to a reference genome to determine which genes were being transcribed at the time the sample was collected. The number of reads aligning to a particular gene provides a measure of that gene's expression level.\n",
    "\n",
    "**RNA-Seq vs Microarrays**\n",
    "\n",
    "RNA-Seq has several advantages over microarray technology, a legacy technology often used in gene expression studies. Unlike microarrays, which require species- or transcript-specific probes, RNA-Seq does not require any prior knowledge about the sequences of the transcripts. This allows RNA-Seq to detect novel transcripts, gene fusions, single nucleotide variants, indels (small insertions and deletions), and other previously unknown changes. RNA-Seq also has a wider dynamic range and higher sensitivity compared to microarrays, making it better at detecting transcripts and specifically isoforms.\n",
    "\n",
    "<blockquote style=\"font-family:Arial; color:red; font-size:16px; border-left:0px solid red; padding: 10px;\">\n",
    "    <strong>Don't forget to answer these questions!</strong>\n",
    "</blockquote>\n",
    "\n",
    "**Questions**\n",
    "\n",
    "## 1.  Why is it important to convert RNA into cDNA for RNA-Seq? What would happen if we tried to sequence RNA directly?\n",
    "\n",
    "\n",
    "There are a few key reasons why it is important to convert RNA into cDNA before sequencing in RNA-Seq:\n",
    "- RNA is less stable than DNA. Directly sequencing RNA could lead to degradation of the sample before sequencing is complete. Converting to cDNA makes the nucleic acid more stable.\n",
    "- Many sequencing technologies work by synthesizing DNA strands, so you need a DNA template rather than RNA. The cDNA provides this DNA template.\n",
    "- Sequencing RNA directly is technically challenging due to the presence of secondary structures in RNA molecules, which can interfere with sequencing reactions. Converting to cDNA helps remove these secondary structures.\n",
    "- Unlike DNA, RNA cannot be easily amplified. The conversion to cDNA allows for amplification of the genetic material, making it feasible to generate enough material for downstream sequencing.\n",
    "\n",
    "If we tried to sequence RNA directly without converting to cDNA first, the sequencing reaction would likely fail or give poor quality data. The RNA may degrade during library preparation or sequencing, secondary structures could block the sequencing enzyme, and the sequence output couldn't be converted back to the original RNA sequence without a cDNA intermediate.\n",
    "\n",
    "\n",
    "## 2. How does the process of preparing a sequencing library contribute to the accuracy of RNA-Seq results? What are some potential sources of error in this step?\n",
    "\n",
    "\n",
    "\n",
    "The process of preparing an RNA-sequencing library is crucial for obtaining accurate results. Here are some of the key ways library preparation contributes to accuracy:\n",
    "- Fragmentation of RNA into smaller pieces improves coverage and uniformity during sequencing. Incomplete fragmentation can bias which sequences are captured.\n",
    "- cDNA synthesis provides a durable DNA template, as discussed in the previous question. Errors in reverse transcription could lead to sequence errors.\n",
    "- Adapter ligation attaches necessary sequencing handles to the cDNA fragments. Efficient ligation is needed to capture all fragments.\n",
    "- Amplification via PCR enriches the library for sequencing. Too many PCR cycles can distort abundance and introduce errors.\n",
    "- Size selection removes overly large or small fragments. Off-target sizes can negatively impact clustering and sequencing.\n",
    "\n",
    "Some potential sources of error include:\n",
    "- Incomplete or non-uniform fragmentation leading to biased coverage.\n",
    "- Reverse transcriptase errors leading to incorrect bases in sequences.\n",
    "- Biased adapter ligation losing certain fragments.\n",
    "- Over amplification by PCR skewing abundance and adding errors.\n",
    "- Contamination from environmental RNA/DNA during preparation.\n",
    "\n",
    "## 3. How does the ability of RNA-Seq to detect novel transcripts contribute to our understanding of gene function? Can you think of a scenario where this capability would be particularly useful?\n",
    "\n",
    "\n",
    "The ability of RNA-Seq to detect novel transcripts provides invaluable insights into gene function in several ways:\n",
    "- It reveals unannotated genes and isoforms that may have important functional roles. Annotation of the transcriptome is incomplete, so new transcripts expand our understanding.\n",
    "- Novel isoforms can exhibit different patterns of expression and regulation compared to known isoforms of the same gene. This functional diversity was previously hidden.\n",
    "- Fusion transcripts from combining exons of distinct genes can lead to chimeric proteins with unique activities. RNA-Seq reveals such fusions.\n",
    "- Non-coding transcripts like lincRNAs and circRNAs discovered by RNA-Seq suggest additional layers of regulatory function.\n",
    "- Mapping transcripts to genomes aids gene annotation and linkage to phenotypes. Unmapped transcripts may indicate gaps in the genome assembly.\n",
    "\n",
    "One scenario where detecting novel transcripts would be particularly useful is studying human diseases and clinical samples:\n",
    "\n",
    "- Finding disease-specific isoforms or fusions that drive pathogenesis provides biomarkers and drug targets.\n",
    "- Novel transcripts in cancer or other tumors can reveal mechanisms of pathogenesis and clinicalbehavior.\n",
    "- For rare diseases, novel transcripts may point to causative mutations in previously unannotated genes.\n",
    "- Personal transcriptome analysis may uncover unique features that explain disease in specific individuals.\n",
    "\n",
    "## 4. Why might a researcher choose to use RNA-Seq instead of microarrays for a gene expression study? What are some potential advantages and disadvantages of each method?\n",
    "\n",
    "\n",
    "\n",
    "A researcher might choose to use RNA-Seq instead of microarrays for a gene expression study due to several advantages. In the end, they should weigh the advantages and disadvantages of each method to make an informed decision.\n",
    "\n",
    "Potential advantages of RNA-Seq:\n",
    "- Does not rely on existing knowledge of genomes or transcripts. Can detect novel genes and isoforms.\n",
    "- No upper limit on detection. Can quantify expression over a wide dynamic range.\n",
    "- Higher sensitivity and accuracy for low abundance transcripts.\n",
    "- Single nucleotide resolution provides insights into variants and editing.\n",
    "- Direct sequencing provides more precise measurement of levels.\n",
    "- Can better distinguish highly similar sequences.\n",
    "\n",
    "Potential disadvantages of RNA-Seq:\n",
    "- Still more expensive than microarray experiments.\n",
    "- Analysis is more complex. Requires bioinformatics skills.\n",
    "- Sample quality and library prep have larger impacts on results.\n",
    "\n",
    "Potential advantages of microarrays:\n",
    "- Well established methodology with many analysis tools.\n",
    "- Lower cost per sample, enabling large sample sizes.\n",
    "- Data normalization and comparison may be more straightforward.\n",
    "\n",
    "Potential disadvantages of microarrays:\n",
    "- Limited to detecting known, probed sequences. Will miss novel genes.\n",
    "- Less accurate quantification, especially for low abundance transcripts.\n",
    "- Smaller dynamic range of detection. Prone to background noise.\n",
    "- Cannot identify sequence variants and modifications."
   ]
  },
  {
   "cell_type": "markdown",
   "metadata": {
    "pycharm": {
     "name": "#%% md\n"
    }
   },
   "source": [
    "### Step 0: Installing Necessary Packages"
   ]
  },
  {
   "cell_type": "code",
   "execution_count": 2,
   "metadata": {
    "pycharm": {
     "name": "#%%\n"
    }
   },
   "outputs": [
    {
     "name": "stdout",
     "output_type": "stream",
     "text": [
      "biopython (1.83) is installed\n",
      "pandas (2.0.2) is installed\n",
      "numpy (1.25.0) is installed\n",
      "matplotlib (3.5.2) is installed\n",
      "seaborn (0.13.2) is installed\n",
      "xlrd (2.0.1) is installed\n",
      "mygene (3.2.2) is installed\n"
     ]
    }
   ],
   "source": [
    "import sys\n",
    "import subprocess\n",
    "import pkg_resources\n",
    "\n",
    "def install(package):\n",
    "    subprocess.check_call([sys.executable, \"-m\", \"pip\", \"install\", package])\n",
    "\n",
    "REQUIRED_PACKAGES = [\n",
    "    'biopython',\n",
    "    'pandas',\n",
    "    'numpy',\n",
    "    'matplotlib',\n",
    "    'seaborn',\n",
    "    'xlrd',\n",
    "    'mygene'\n",
    "]\n",
    "\n",
    "for package in REQUIRED_PACKAGES:\n",
    "    try:\n",
    "        dist = pkg_resources.get_distribution(package)\n",
    "        print('{} ({}) is installed'.format(dist.key, dist.version))\n",
    "    except pkg_resources.DistributionNotFound:\n",
    "        print('{} is NOT installed'.format(package))\n",
    "        install(package)\n",
    "        print('{} was successfully installed.'.format(package))"
   ]
  },
  {
   "cell_type": "code",
   "execution_count": 3,
   "metadata": {
    "pycharm": {
     "name": "#%%\n"
    }
   },
   "outputs": [],
   "source": [
    "# Import necessary libraries. \n",
    "import pandas as pd\n",
    "import numpy as np\n",
    "import seaborn as sns "
   ]
  },
  {
   "cell_type": "markdown",
   "metadata": {
    "pycharm": {
     "name": "#%% md\n"
    }
   },
   "source": [
    "### Loading the Dataset: A First Glimpse into the Zebra Finch's World\n",
    "\n",
    "With our tools at the ready, let's embark on the initial phase of our exploration. We'll load the dataset containing the read counts from the Zebra Finch RNA-Seq study and begin to unravel the secrets it holds."
   ]
  },
  {
   "cell_type": "code",
   "execution_count": 4,
   "metadata": {
    "pycharm": {
     "name": "#%%\n"
    }
   },
   "outputs": [
    {
     "data": {
      "text/html": [
       "<div>\n",
       "<style scoped>\n",
       "    .dataframe tbody tr th:only-of-type {\n",
       "        vertical-align: middle;\n",
       "    }\n",
       "\n",
       "    .dataframe tbody tr th {\n",
       "        vertical-align: top;\n",
       "    }\n",
       "\n",
       "    .dataframe thead th {\n",
       "        text-align: right;\n",
       "    }\n",
       "</style>\n",
       "<table border=\"1\" class=\"dataframe\">\n",
       "  <thead>\n",
       "    <tr style=\"text-align: right;\">\n",
       "      <th></th>\n",
       "      <th>geneID</th>\n",
       "      <th>HY3</th>\n",
       "      <th>HY4</th>\n",
       "      <th>HY5</th>\n",
       "      <th>HY6</th>\n",
       "      <th>HY8</th>\n",
       "      <th>HY9</th>\n",
       "      <th>HY12</th>\n",
       "      <th>HY13</th>\n",
       "      <th>HY14</th>\n",
       "      <th>...</th>\n",
       "      <th>TN62</th>\n",
       "      <th>TN63</th>\n",
       "      <th>TN64</th>\n",
       "      <th>TN65</th>\n",
       "      <th>TN66</th>\n",
       "      <th>TN67</th>\n",
       "      <th>TN68</th>\n",
       "      <th>TN69</th>\n",
       "      <th>TN70</th>\n",
       "      <th>TN71</th>\n",
       "    </tr>\n",
       "  </thead>\n",
       "  <tbody>\n",
       "    <tr>\n",
       "      <th>0</th>\n",
       "      <td>ENSTGUG00000008284</td>\n",
       "      <td>145</td>\n",
       "      <td>113</td>\n",
       "      <td>149</td>\n",
       "      <td>121</td>\n",
       "      <td>159</td>\n",
       "      <td>172</td>\n",
       "      <td>133</td>\n",
       "      <td>153</td>\n",
       "      <td>192</td>\n",
       "      <td>...</td>\n",
       "      <td>114</td>\n",
       "      <td>111</td>\n",
       "      <td>185</td>\n",
       "      <td>144</td>\n",
       "      <td>134</td>\n",
       "      <td>158</td>\n",
       "      <td>105</td>\n",
       "      <td>143</td>\n",
       "      <td>116</td>\n",
       "      <td>161</td>\n",
       "    </tr>\n",
       "    <tr>\n",
       "      <th>1</th>\n",
       "      <td>ENSTGUG00000003938</td>\n",
       "      <td>25</td>\n",
       "      <td>18</td>\n",
       "      <td>21</td>\n",
       "      <td>29</td>\n",
       "      <td>22</td>\n",
       "      <td>38</td>\n",
       "      <td>23</td>\n",
       "      <td>34</td>\n",
       "      <td>35</td>\n",
       "      <td>...</td>\n",
       "      <td>27</td>\n",
       "      <td>52</td>\n",
       "      <td>63</td>\n",
       "      <td>92</td>\n",
       "      <td>31</td>\n",
       "      <td>52</td>\n",
       "      <td>44</td>\n",
       "      <td>53</td>\n",
       "      <td>33</td>\n",
       "      <td>40</td>\n",
       "    </tr>\n",
       "    <tr>\n",
       "      <th>2</th>\n",
       "      <td>ENSTGUG00000011987</td>\n",
       "      <td>915</td>\n",
       "      <td>681</td>\n",
       "      <td>938</td>\n",
       "      <td>638</td>\n",
       "      <td>900</td>\n",
       "      <td>749</td>\n",
       "      <td>736</td>\n",
       "      <td>717</td>\n",
       "      <td>657</td>\n",
       "      <td>...</td>\n",
       "      <td>710</td>\n",
       "      <td>1360</td>\n",
       "      <td>1277</td>\n",
       "      <td>1291</td>\n",
       "      <td>554</td>\n",
       "      <td>1225</td>\n",
       "      <td>956</td>\n",
       "      <td>1166</td>\n",
       "      <td>571</td>\n",
       "      <td>936</td>\n",
       "    </tr>\n",
       "    <tr>\n",
       "      <th>3</th>\n",
       "      <td>ENSTGUG00000017592</td>\n",
       "      <td>5</td>\n",
       "      <td>5</td>\n",
       "      <td>5</td>\n",
       "      <td>14</td>\n",
       "      <td>5</td>\n",
       "      <td>4</td>\n",
       "      <td>22</td>\n",
       "      <td>13</td>\n",
       "      <td>11</td>\n",
       "      <td>...</td>\n",
       "      <td>3</td>\n",
       "      <td>1</td>\n",
       "      <td>2</td>\n",
       "      <td>5</td>\n",
       "      <td>5</td>\n",
       "      <td>3</td>\n",
       "      <td>11</td>\n",
       "      <td>5</td>\n",
       "      <td>13</td>\n",
       "      <td>2</td>\n",
       "    </tr>\n",
       "    <tr>\n",
       "      <th>4</th>\n",
       "      <td>ENSTGUG00000009442</td>\n",
       "      <td>226</td>\n",
       "      <td>211</td>\n",
       "      <td>221</td>\n",
       "      <td>257</td>\n",
       "      <td>202</td>\n",
       "      <td>197</td>\n",
       "      <td>231</td>\n",
       "      <td>201</td>\n",
       "      <td>263</td>\n",
       "      <td>...</td>\n",
       "      <td>271</td>\n",
       "      <td>273</td>\n",
       "      <td>423</td>\n",
       "      <td>226</td>\n",
       "      <td>242</td>\n",
       "      <td>216</td>\n",
       "      <td>365</td>\n",
       "      <td>414</td>\n",
       "      <td>313</td>\n",
       "      <td>316</td>\n",
       "    </tr>\n",
       "  </tbody>\n",
       "</table>\n",
       "<p>5 rows × 135 columns</p>\n",
       "</div>"
      ],
      "text/plain": [
       "               geneID  HY3  HY4  HY5  HY6  HY8  HY9  HY12  HY13  HY14  ...  \\\n",
       "0  ENSTGUG00000008284  145  113  149  121  159  172   133   153   192  ...   \n",
       "1  ENSTGUG00000003938   25   18   21   29   22   38    23    34    35  ...   \n",
       "2  ENSTGUG00000011987  915  681  938  638  900  749   736   717   657  ...   \n",
       "3  ENSTGUG00000017592    5    5    5   14    5    4    22    13    11  ...   \n",
       "4  ENSTGUG00000009442  226  211  221  257  202  197   231   201   263  ...   \n",
       "\n",
       "   TN62  TN63  TN64  TN65  TN66  TN67  TN68  TN69  TN70  TN71  \n",
       "0   114   111   185   144   134   158   105   143   116   161  \n",
       "1    27    52    63    92    31    52    44    53    33    40  \n",
       "2   710  1360  1277  1291   554  1225   956  1166   571   936  \n",
       "3     3     1     2     5     5     3    11     5    13     2  \n",
       "4   271   273   423   226   242   216   365   414   313   316  \n",
       "\n",
       "[5 rows x 135 columns]"
      ]
     },
     "metadata": {},
     "output_type": "display_data"
    }
   ],
   "source": [
    "# Loading the RNA-Seq read count data\n",
    "dataset_path = './dataset/GSE203528_readcount.xls'\n",
    "df_read_counts = pd.read_csv(dataset_path, sep='\\t')\n",
    "\n",
    "\n",
    "display(df_read_counts.head())\n"
   ]
  },
  {
   "cell_type": "markdown",
   "source": [
    "#### Exploring the Zebra Finch RNA-Seq Data\n",
    "\n",
    "In this RNA-Seq dataset, we delve into the complex world of the Zebra Finch by examining gene expression in three distinct areas of the brain: the hypothalamus, the bed nucleus of the stria terminalis, and the nucleus taeniae. Each of these regions plays a unique role in bird behavior and physiology.\n",
    "\n",
    "- **The Hypothalamus** (HY samples): This region is crucial for controlling hormones and basic survival functions like feeding, fighting, fleeing, and reproduction.\n",
    "- **The Bed Nucleus of the Stria Terminalis** (NST samples): This area is involved in the bird's stress response and emotional behavior.\n",
    "- **The Nucleus Taeniae** (TN samples): An area of the brain unique to birds, thought to be involved in social behaviors and possibly song learning.\n",
    "\n",
    "These regions were likely chosen for their significant roles in behaviors that are crucial for survival and species-specific activities. By analyzing gene expression in these areas, researchers can gain insights into how these regions contribute to the unique behaviors of the Zebra Finch.\n",
    "\n",
    "**Dataset Breakdown**\n",
    "\n",
    "Each row in the dataset represents a different gene, identified by a geneID like `ENSTGUG00000008284`. The columns, labeled with codes like `HY3`, `HY4`, `NST3`, etc., correspond to samples from these three brain regions. The numbers are read counts, indicating how often each gene's RNA was detected in the sample. High numbers suggest a gene is very active in that sample.\n",
    "\n",
    "These numbers are crucial. They tell us how active each gene was in each sample. The higher the number, the more active the gene. By comparing these numbers across different samples, we can get insights into how gene activity varies in different situations or conditions.\n",
    "\n",
    "<blockquote style=\"font-family:Arial; color:red; font-size:16px; border-left:0px solid red; padding: 10px;\">\n",
    "    <strong>Don't forget to answer these questions!</strong>\n",
    "</blockquote>\n",
    "\n",
    "**Questions**\n",
    "\n",
    "## 1. Why do you think the read counts vary between different genes in the same sample? What biological factors might contribute to this variation?\n",
    "There are a few key factors that can contribute to variation in read counts between different genes in the same sample:\n",
    "\n",
    "- Gene expression levels - Some genes are simply expressed at higher levels than others, resulting in more mRNA transcripts and higher read counts. The expression level of a gene is regulated by things like promoter strength, transcription factor binding, epigenetic modifications, etc. So natural variation in these regulatory mechanisms leads to genes having different expression levels.\n",
    "\n",
    "- Gene length - Longer genes will have more reads mapping to them than shorter genes, all else being equal. So gene length alone will contribute to differences in read counts.\n",
    "\n",
    "- Mapping ambiguity - Reads that map equally well to multiple genes can cause read count variation. If a read maps to multiple locations, read count software will randomly assign it to one location. So by chance some genes will get more ambiguous reads than others.\n",
    "\n",
    "- Sample preparation - Technical variation in how the sequencing libraries were prepared can lead to some genes being over/under represented. Factors like RNA integrity, library prep efficiency, and PCR duplication can skew coverage of certain genes.\n",
    "\n",
    "- Copy number variations - Differences in copy number of genes, due to deletions/duplications in the genome, can directly affect read counts for those genes. Higher copy number leads to higher read counts.\n",
    "\n",
    "## 2. Can you think of any reasons why the read counts for the same gene might vary between different samples? Consider the experimental design and the nature of biological systems.\n",
    "There are several reasons why read counts for the same gene may vary between different samples:\n",
    "\n",
    "- Natural biological variation - Even in the same tissue type, gene expression levels can vary between individuals. Things like genetic background, environmental factors, age, etc can lead to expression differences. So some variation is expected even in a well-controlled experiment.\n",
    "\n",
    "- Technical noise - Small differences in how samples are handled can introduce variation. Things like RNA integrity, library preparation efficiency, sequencing depth can vary slightly and affect read counts.\n",
    "\n",
    "- Sample heterogeneity - Especially in complex tissues like brain regions, the precise cell type composition may vary between samples. Different cell types express genes differently, so compositional differences introduce expression variation.\n",
    "\n",
    "- Regulation differences - Gene expression is highly regulated by transcription factors, epigenetic modifications, etc. Differences in regulatory programs between samples can drive expression differences.\n",
    "\n",
    "- Activation state - Cells respond dynamically to stimuli, hormones, etc by regulating gene expression. Differences in activation state between samples can lead to expression variation.\n",
    "\n",
    "- Time-dependent effects - Gene expression changes over time, for example in response to stimuli or over a developmental timecourse. Samples captured at different timepoints will vary.\n",
    "\n",
    "## 3. How would you interpret a situation where a gene has a high read count in one sample and a low read count in another? What might this tell us about the gene's role in the Zebra Finch's response to its social environment and the LPS challenge?\n",
    "A large difference in read counts for a gene between two samples suggests that its expression is changing significantly between those conditions. There are a few possible interpretations:\n",
    "\n",
    "- The gene is differentially expressed in response to the different conditions. For example, it could be upregulated in response to the LPS immune challenge and social environment differences. This points to the gene playing an active role in the regulatory response.\n",
    "\n",
    "- The gene is expressed in a cell type whose abundance is changing between conditions. For example, immune cell populations may expand in response to LPS. Genes expressed primarily in those cells would increase.\n",
    "\n",
    "- There are technical factors leading to the expression difference, not a biological difference. For example, differences in RNA quality or library preparation efficiency.\n",
    "\n",
    "To distinguish these possibilities, one would need to examine:\n",
    "\n",
    "- Expression patterns of other genes to look for enrichment of functional pathways/cell types. Does the change fit a broader regulatory program?\n",
    "\n",
    "- Expression changes measured with orthogonal methods like qPCR to confirm it is robust.\n",
    "\n",
    "- Whether the gene's baseline expression profile fits a responsive cell type.\n",
    "\n",
    "- Metadata like RNA quality scores to rule out technical factors.\n",
    "\n",
    "\n",
    "**Before proceeding, it's essential to ensure you have a foundational understanding of RNA-Seq, the objectives and design of the experiment we're examining, and the significance of each cell in the dataset. Grasping these concepts is crucial for successfully navigating the tasks ahead.**\n",
    "\n",
    "---"
   ],
   "metadata": {
    "collapsed": false,
    "pycharm": {
     "name": "#%% md\n"
    }
   }
  },
  {
   "cell_type": "markdown",
   "metadata": {
    "pycharm": {
     "name": "#%% md\n"
    }
   },
   "source": [
    "## Preprocessing and Normalization\n",
    "\n",
    "In this section, we begin our data analysis by focusing on preprocessing and normalization. Preprocessing involves converting the raw Ensembl gene IDs into more recognizable gene symbols, enhancing the interpretability of our data. Following this, normalization is performed to adjust for variations in sequencing depth and gene length, a crucial step to ensure accurate comparison of gene expression across different samples."
   ]
  },
  {
   "cell_type": "markdown",
   "metadata": {
    "pycharm": {
     "name": "#%% md\n"
    }
   },
   "source": [
    "### Transforming and Merging the Dataset for Analysis\n",
    "\n",
    "To facilitate our analysis, we need to restructure the gene expression data so that each row corresponds to a sample, with appropriate labels for social settings and tissue types. This transformation will enable us to apply machine learning techniques and conduct more effective analyses.\n",
    "\n",
    "The process involves two main steps:\n",
    "1. **Transpose the Gene Expression Data**: Convert the gene expression data so that each row represents a sample and each column corresponds to a gene.\n",
    "2. **Merge with Sample Mapping**: Combine the transposed gene expression data with the `sample_mapping.csv` to add social setting, study group, and tissue type information to each sample.\n",
    "\n",
    "This approach will create a dataset better suited for exploratory data analysis, clustering, and other statistical methods.\n"
   ]
  },
  {
   "cell_type": "code",
   "execution_count": 1,
   "metadata": {
    "pycharm": {
     "name": "#%%\n"
    }
   },
   "outputs": [
    {
     "data": {
      "text/plain": "    sample_id social_settting study_group tissue_id  ENSTGUG00000008284  \\\n0  GSM6175777              NF           L       HY3                 145   \n1  GSM6175779             ISO           S       HY5                 149   \n2  GSM6175780             ISO           L       HY6                 121   \n3  GSM6175781             ISO           L       HY8                 159   \n4  GSM6175782             ISO           L       HY9                 172   \n\n   ENSTGUG00000003938  ENSTGUG00000011987  ENSTGUG00000017592  \\\n0                  25                 915                   5   \n1                  21                 938                   5   \n2                  29                 638                  14   \n3                  22                 900                   5   \n4                  38                 749                   4   \n\n   ENSTGUG00000009442  ENSTGUG00000009764  ...  ENSTGUG00000010786  \\\n0                 226                  94  ...                 443   \n1                 221                  76  ...                 327   \n2                 257                 126  ...                 350   \n3                 202                 178  ...                 418   \n4                 197                  94  ...                 274   \n\n   ENSTGUG00000004644  ENSTGUG00000006386  ENSTGUG00000017785  \\\n0                 493                 722                   0   \n1                 433                 523                   0   \n2                 370                 395                   0   \n3                 435                 389                   0   \n4                 342                 291                   0   \n\n   ENSTGUG00000001573  ENSTGUG00000014656  ENSTGUG00000003563  \\\n0                   0                   0                1473   \n1                   0                   0                1522   \n2                   2                   1                1320   \n3                  26                   5                1542   \n4                   0                   5                1267   \n\n   ENSTGUG00000002845  ENSTGUG00000009990  ENSTGUG00000001666  \n0                  43                 276                 181  \n1                  37                 145                 118  \n2                  22                 174                 110  \n3                  57                 219                 116  \n4                  24                 157                  88  \n\n[5 rows x 18622 columns]",
      "text/html": "<div>\n<style scoped>\n    .dataframe tbody tr th:only-of-type {\n        vertical-align: middle;\n    }\n\n    .dataframe tbody tr th {\n        vertical-align: top;\n    }\n\n    .dataframe thead th {\n        text-align: right;\n    }\n</style>\n<table border=\"1\" class=\"dataframe\">\n  <thead>\n    <tr style=\"text-align: right;\">\n      <th></th>\n      <th>sample_id</th>\n      <th>social_settting</th>\n      <th>study_group</th>\n      <th>tissue_id</th>\n      <th>ENSTGUG00000008284</th>\n      <th>ENSTGUG00000003938</th>\n      <th>ENSTGUG00000011987</th>\n      <th>ENSTGUG00000017592</th>\n      <th>ENSTGUG00000009442</th>\n      <th>ENSTGUG00000009764</th>\n      <th>...</th>\n      <th>ENSTGUG00000010786</th>\n      <th>ENSTGUG00000004644</th>\n      <th>ENSTGUG00000006386</th>\n      <th>ENSTGUG00000017785</th>\n      <th>ENSTGUG00000001573</th>\n      <th>ENSTGUG00000014656</th>\n      <th>ENSTGUG00000003563</th>\n      <th>ENSTGUG00000002845</th>\n      <th>ENSTGUG00000009990</th>\n      <th>ENSTGUG00000001666</th>\n    </tr>\n  </thead>\n  <tbody>\n    <tr>\n      <th>0</th>\n      <td>GSM6175777</td>\n      <td>NF</td>\n      <td>L</td>\n      <td>HY3</td>\n      <td>145</td>\n      <td>25</td>\n      <td>915</td>\n      <td>5</td>\n      <td>226</td>\n      <td>94</td>\n      <td>...</td>\n      <td>443</td>\n      <td>493</td>\n      <td>722</td>\n      <td>0</td>\n      <td>0</td>\n      <td>0</td>\n      <td>1473</td>\n      <td>43</td>\n      <td>276</td>\n      <td>181</td>\n    </tr>\n    <tr>\n      <th>1</th>\n      <td>GSM6175779</td>\n      <td>ISO</td>\n      <td>S</td>\n      <td>HY5</td>\n      <td>149</td>\n      <td>21</td>\n      <td>938</td>\n      <td>5</td>\n      <td>221</td>\n      <td>76</td>\n      <td>...</td>\n      <td>327</td>\n      <td>433</td>\n      <td>523</td>\n      <td>0</td>\n      <td>0</td>\n      <td>0</td>\n      <td>1522</td>\n      <td>37</td>\n      <td>145</td>\n      <td>118</td>\n    </tr>\n    <tr>\n      <th>2</th>\n      <td>GSM6175780</td>\n      <td>ISO</td>\n      <td>L</td>\n      <td>HY6</td>\n      <td>121</td>\n      <td>29</td>\n      <td>638</td>\n      <td>14</td>\n      <td>257</td>\n      <td>126</td>\n      <td>...</td>\n      <td>350</td>\n      <td>370</td>\n      <td>395</td>\n      <td>0</td>\n      <td>2</td>\n      <td>1</td>\n      <td>1320</td>\n      <td>22</td>\n      <td>174</td>\n      <td>110</td>\n    </tr>\n    <tr>\n      <th>3</th>\n      <td>GSM6175781</td>\n      <td>ISO</td>\n      <td>L</td>\n      <td>HY8</td>\n      <td>159</td>\n      <td>22</td>\n      <td>900</td>\n      <td>5</td>\n      <td>202</td>\n      <td>178</td>\n      <td>...</td>\n      <td>418</td>\n      <td>435</td>\n      <td>389</td>\n      <td>0</td>\n      <td>26</td>\n      <td>5</td>\n      <td>1542</td>\n      <td>57</td>\n      <td>219</td>\n      <td>116</td>\n    </tr>\n    <tr>\n      <th>4</th>\n      <td>GSM6175782</td>\n      <td>ISO</td>\n      <td>L</td>\n      <td>HY9</td>\n      <td>172</td>\n      <td>38</td>\n      <td>749</td>\n      <td>4</td>\n      <td>197</td>\n      <td>94</td>\n      <td>...</td>\n      <td>274</td>\n      <td>342</td>\n      <td>291</td>\n      <td>0</td>\n      <td>0</td>\n      <td>5</td>\n      <td>1267</td>\n      <td>24</td>\n      <td>157</td>\n      <td>88</td>\n    </tr>\n  </tbody>\n</table>\n<p>5 rows × 18622 columns</p>\n</div>"
     },
     "metadata": {},
     "output_type": "display_data"
    }
   ],
   "source": [
    "import pandas as pd\n",
    "\n",
    "# Load the gene expression data\n",
    "expression_data = pd.read_csv('./dataset/GSE203528_readcount.xls', sep='\\t')\n",
    "\n",
    "# Transpose the dataframe so that columns become rows and vice versa\n",
    "transposed_df = expression_data.set_index('geneID').T.reset_index()\n",
    "transposed_df.rename(columns={'index': 'tissue_id'}, inplace=True)\n",
    "\n",
    "# Load the sample mapping data\n",
    "sample_mapping = pd.read_csv('./dataset/sample_mappings.csv')\n",
    "\n",
    "# Merge the transposed gene expression data with the sample mapping\n",
    "merged_df = pd.merge(transposed_df, sample_mapping, on='tissue_id')\n",
    "\n",
    "# Reorder columns to place metadata columns at the front\n",
    "metadata_columns = ['sample_id', 'social_settting', 'study_group', 'tissue_id']\n",
    "gene_columns = [col for col in merged_df.columns if col not in metadata_columns]\n",
    "transformed_df = merged_df[metadata_columns + gene_columns]\n",
    "\n",
    "# Save the transformed and merged dataset\n",
    "transformed_df.to_csv('./dataset/transformed_dataset.csv', index=False)\n",
    "\n",
    "# Display the first few rows of the transformed dataset\n",
    "display(transformed_df.head())"
   ]
  },
  {
   "cell_type": "markdown",
   "metadata": {
    "pycharm": {
     "name": "#%% md\n"
    }
   },
   "source": [
    "### Converting Ensembl IDs to Gene Names (Bonus)\n",
    "\n",
    "In our dataset, genes are currently identified by Ensembl IDs. While these IDs are precise, they may not be as immediately recognizable as standard gene names. For those interested in working with more familiar gene names, there's a straightforward way to annotate these IDs.\n",
    "\n",
    "**Steps to Annotate Gene IDs:**\n",
    "1. **Use MyGeneInfo Library**: MyGeneInfo is a powerful tool for gene annotation. It allows you to query a database with Ensembl IDs and retrieve corresponding standard gene names.\n",
    "2. **Query for Zebra Finch Genes**: Given that our study is on Zebra Finch, it's important to use the correct NCBI taxonomy ID (59729) for this species when querying.\n",
    "3. **Merge Results with Original Data**: After obtaining the gene names, you can merge this information back into your dataset, linking each Ensembl ID to its standard gene name.\n",
    "\n",
    "**Python Implementation**: \n",
    "If you wish to perform this annotation, you can use the Python library `mygene`. Initialize a `MyGeneInfo` object, query using your list of Ensembl IDs, and then merge the results with your dataset. This process adds a column for gene names, enhancing the readability and interpretability of your data.\n",
    "\n",
    "Remember, while this annotation adds clarity, the original Ensembl IDs are crucial for maintaining the accuracy and precision of genomic data.\n"
   ]
  },
  {
   "cell_type": "code",
   "execution_count": 35,
   "outputs": [
    {
     "data": {
      "text/plain": "array([['sample_id', 'social_settting', 'study_group', ...,\n        'ENSTGUG00000002845', 'ENSTGUG00000009990', 'ENSTGUG00000001666'],\n       ['GSM6175777', 'NF', 'L', ..., 43, 276, 181],\n       ['GSM6175779', 'ISO', 'S', ..., 37, 145, 118],\n       ...,\n       ['GSM6175908', 'KFC', 'L', ..., 74, 217, 101],\n       ['GSM6175909', 'KFC', 'S', ..., 56, 271, 108],\n       ['GSM6175910', 'KFC', 'L', ..., 49, 245, 87]], dtype=object)"
     },
     "execution_count": 35,
     "metadata": {},
     "output_type": "execute_result"
    }
   ],
   "source": [
    "import mygene\n",
    "import numpy as np\n",
    "\n",
    "# Initialize MyGeneInfo object\n",
    "mg = mygene.MyGeneInfo()\n",
    "\n",
    "# Query for gene names using Ensembl IDs\n",
    "ensembl_ids = transformed_df.columns[4:]\n",
    "gene_info = mg.getgenes(ensembl_ids, fields='name')\n",
    "\n",
    "# Convert transformed_df to a numpy array to allow for easy iteration\n",
    "# Add column names as the first row of the array\n",
    "transformed_array = np.vstack([transformed_df.columns, transformed_df.values])\n",
    "\n",
    "transformed_array"
   ],
   "metadata": {
    "collapsed": false,
    "pycharm": {
     "name": "#%%\n"
    }
   }
  },
  {
   "cell_type": "code",
   "execution_count": 49,
   "outputs": [
    {
     "data": {
      "text/plain": "array([['sample_id', 'social_settting', 'study_group', ...,\n        'ENSTGUG00000002845', 'ENSTGUG00000009990', 'ENSTGUG00000001666'],\n       ['GSM6175777', 'NF', 'L', ..., 43, 276, 181],\n       ['GSM6175779', 'ISO', 'S', ..., 37, 145, 118],\n       ...,\n       ['GSM6175794', 'KF', 'L', ..., 59, 246, 126],\n       ['GSM6175795', 'KF', 'S', ..., 38, 164, 108],\n       ['GSM6175796', 'KF', 'L', ..., 29, 199, 123]], dtype=object)"
     },
     "execution_count": 49,
     "metadata": {},
     "output_type": "execute_result"
    }
   ],
   "source": [
    "# create a copy of the transformed_array\n",
    "transformed_array_copy = transformed_array.copy()\n",
    "\n",
    "Ensembl_ID_to_gene_name = {}\n",
    "# For each entry in gene_info, if 'name' is present, add the gene name to the dictionary\n",
    "for entry in gene_info:\n",
    "    if 'name' in entry:\n",
    "        Ensembl_ID_to_gene_name[entry['query']] = entry['name']\n",
    "\n",
    "# For each entry in gene_info, if 'name' is present, copy the column with the gene ID to a new column with the gene name\n",
    "index = 4\n",
    "sz = len(transformed_array_copy[0])\n",
    "while index < sz:\n",
    "    if index % 1000 == 0:\n",
    "        print(f'Processing column {index}...')\n",
    "    if transformed_array_copy[0][index] in Ensembl_ID_to_gene_name:\n",
    "        new_column = np.hstack([Ensembl_ID_to_gene_name[transformed_array_copy[0][index]], transformed_array_copy[1:, index]])\n",
    "        transformed_array_copy = np.insert(transformed_array_copy, index + 1, new_column, axis=1)\n",
    "        index += 2\n",
    "        sz += 1\n",
    "    else:\n",
    "        index += 1\n",
    "\n",
    "\n",
    "transformed_array_copy[:20]"
   ],
   "metadata": {
    "collapsed": false,
    "pycharm": {
     "name": "#%%\n"
    }
   }
  },
  {
   "cell_type": "markdown",
   "metadata": {
    "pycharm": {
     "name": "#%% md\n"
    }
   },
   "source": [
    "### Normalization of RNA-Seq Data: Ensuring Accurate Comparisons\n",
    "\n",
    "Normalization is a crucial step in data analysis. In this context, it corrects for variations in sequencing depth and gene length across samples, enabling accurate comparisons of gene expression levels. Without normalization, differences in read counts could be mistakenly attributed to biological variation instead of technical biases.\n",
    "\n",
    "**Why Normalize?**\n",
    "- **Sequencing Depth Variability**: Different samples might have varying total numbers of reads due to differences in sequencing efficiency. Normalization adjusts for these discrepancies.\n",
    "- **Gene Length Bias**: Longer genes tend to have more reads merely due to their size. Normalization methods like TPM (Transcripts Per Million) correct for this by accounting for gene length.\n",
    "\n",
    "**Normalization Method - Counts Per Million (CPM)**:\n",
    "- We'll use the CPM method for its simplicity and effectiveness. CPM normalizes gene expression measurements by dividing the read counts of each gene by the total read counts per million in each sample. This method is suitable for datasets where the focus is on comparing expression patterns rather than quantifying absolute expression levels.\n",
    "\n",
    "**Implementing CPM in Python**:\n",
    "The following Python code demonstrates how to apply CPM normalization to our dataset. It involves calculating the total read counts for each sample, normalizing each gene's read count, and then multiplying by one million.\n"
   ]
  },
  {
   "cell_type": "code",
   "execution_count": 2,
   "metadata": {
    "pycharm": {
     "name": "#%%\n"
    }
   },
   "outputs": [
    {
     "data": {
      "text/html": [
       "<div>\n",
       "<style scoped>\n",
       "    .dataframe tbody tr th:only-of-type {\n",
       "        vertical-align: middle;\n",
       "    }\n",
       "\n",
       "    .dataframe tbody tr th {\n",
       "        vertical-align: top;\n",
       "    }\n",
       "\n",
       "    .dataframe thead th {\n",
       "        text-align: right;\n",
       "    }\n",
       "</style>\n",
       "<table border=\"1\" class=\"dataframe\">\n",
       "  <thead>\n",
       "    <tr style=\"text-align: right;\">\n",
       "      <th></th>\n",
       "      <th>sample_id</th>\n",
       "      <th>social_settting</th>\n",
       "      <th>study_group</th>\n",
       "      <th>tissue_id</th>\n",
       "      <th>ENSTGUG00000008284</th>\n",
       "      <th>ENSTGUG00000003938</th>\n",
       "      <th>ENSTGUG00000011987</th>\n",
       "      <th>ENSTGUG00000017592</th>\n",
       "      <th>ENSTGUG00000009442</th>\n",
       "      <th>ENSTGUG00000009764</th>\n",
       "      <th>...</th>\n",
       "      <th>ENSTGUG00000010786</th>\n",
       "      <th>ENSTGUG00000004644</th>\n",
       "      <th>ENSTGUG00000006386</th>\n",
       "      <th>ENSTGUG00000017785</th>\n",
       "      <th>ENSTGUG00000001573</th>\n",
       "      <th>ENSTGUG00000014656</th>\n",
       "      <th>ENSTGUG00000003563</th>\n",
       "      <th>ENSTGUG00000002845</th>\n",
       "      <th>ENSTGUG00000009990</th>\n",
       "      <th>ENSTGUG00000001666</th>\n",
       "    </tr>\n",
       "  </thead>\n",
       "  <tbody>\n",
       "    <tr>\n",
       "      <th>0</th>\n",
       "      <td>GSM6175777</td>\n",
       "      <td>NF</td>\n",
       "      <td>L</td>\n",
       "      <td>HY3</td>\n",
       "      <td>7916.143473</td>\n",
       "      <td>5231.219920</td>\n",
       "      <td>8352.808004</td>\n",
       "      <td>5319.148936</td>\n",
       "      <td>6991.276372</td>\n",
       "      <td>7795.007878</td>\n",
       "      <td>...</td>\n",
       "      <td>9225.899161</td>\n",
       "      <td>8094.573516</td>\n",
       "      <td>10803.531348</td>\n",
       "      <td>0.0</td>\n",
       "      <td>0.000000</td>\n",
       "      <td>0.000000</td>\n",
       "      <td>4415.388212</td>\n",
       "      <td>5699.138502</td>\n",
       "      <td>9239.730843</td>\n",
       "      <td>13426.303687</td>\n",
       "    </tr>\n",
       "    <tr>\n",
       "      <th>1</th>\n",
       "      <td>GSM6175779</td>\n",
       "      <td>ISO</td>\n",
       "      <td>S</td>\n",
       "      <td>HY5</td>\n",
       "      <td>8134.519845</td>\n",
       "      <td>4394.224733</td>\n",
       "      <td>8562.769298</td>\n",
       "      <td>5319.148936</td>\n",
       "      <td>6836.602116</td>\n",
       "      <td>6302.346795</td>\n",
       "      <td>...</td>\n",
       "      <td>6810.088094</td>\n",
       "      <td>7109.432723</td>\n",
       "      <td>7825.826725</td>\n",
       "      <td>0.0</td>\n",
       "      <td>0.000000</td>\n",
       "      <td>0.000000</td>\n",
       "      <td>4562.268065</td>\n",
       "      <td>4903.909874</td>\n",
       "      <td>4854.206421</td>\n",
       "      <td>8753.059862</td>\n",
       "    </tr>\n",
       "    <tr>\n",
       "      <th>2</th>\n",
       "      <td>GSM6175780</td>\n",
       "      <td>ISO</td>\n",
       "      <td>L</td>\n",
       "      <td>HY6</td>\n",
       "      <td>6605.885243</td>\n",
       "      <td>6068.215108</td>\n",
       "      <td>5824.143723</td>\n",
       "      <td>14893.617021</td>\n",
       "      <td>7950.256759</td>\n",
       "      <td>10448.627581</td>\n",
       "      <td>...</td>\n",
       "      <td>7289.085116</td>\n",
       "      <td>6075.034890</td>\n",
       "      <td>5910.519228</td>\n",
       "      <td>0.0</td>\n",
       "      <td>10695.187166</td>\n",
       "      <td>3636.363636</td>\n",
       "      <td>3956.763368</td>\n",
       "      <td>2915.838304</td>\n",
       "      <td>5825.047705</td>\n",
       "      <td>8159.632075</td>\n",
       "    </tr>\n",
       "    <tr>\n",
       "      <th>3</th>\n",
       "      <td>GSM6175781</td>\n",
       "      <td>ISO</td>\n",
       "      <td>L</td>\n",
       "      <td>HY8</td>\n",
       "      <td>8680.460774</td>\n",
       "      <td>4603.473530</td>\n",
       "      <td>8215.876725</td>\n",
       "      <td>5319.148936</td>\n",
       "      <td>6248.839943</td>\n",
       "      <td>14760.759599</td>\n",
       "      <td>...</td>\n",
       "      <td>8705.250224</td>\n",
       "      <td>7142.270750</td>\n",
       "      <td>5820.739189</td>\n",
       "      <td>0.0</td>\n",
       "      <td>139037.433155</td>\n",
       "      <td>18181.818182</td>\n",
       "      <td>4622.219025</td>\n",
       "      <td>7554.671968</td>\n",
       "      <td>7331.525560</td>\n",
       "      <td>8604.702915</td>\n",
       "    </tr>\n",
       "    <tr>\n",
       "      <th>4</th>\n",
       "      <td>GSM6175782</td>\n",
       "      <td>ISO</td>\n",
       "      <td>L</td>\n",
       "      <td>HY9</td>\n",
       "      <td>9390.183982</td>\n",
       "      <td>7951.454279</td>\n",
       "      <td>6837.435186</td>\n",
       "      <td>4255.319149</td>\n",
       "      <td>6094.165687</td>\n",
       "      <td>7795.007878</td>\n",
       "      <td>...</td>\n",
       "      <td>5706.312348</td>\n",
       "      <td>5615.302520</td>\n",
       "      <td>4354.331887</td>\n",
       "      <td>0.0</td>\n",
       "      <td>0.000000</td>\n",
       "      <td>18181.818182</td>\n",
       "      <td>3797.893323</td>\n",
       "      <td>3180.914513</td>\n",
       "      <td>5255.933849</td>\n",
       "      <td>6527.705660</td>\n",
       "    </tr>\n",
       "  </tbody>\n",
       "</table>\n",
       "<p>5 rows × 18622 columns</p>\n",
       "</div>"
      ],
      "text/plain": [
       "    sample_id social_settting study_group tissue_id  ENSTGUG00000008284  \\\n",
       "0  GSM6175777              NF           L       HY3         7916.143473   \n",
       "1  GSM6175779             ISO           S       HY5         8134.519845   \n",
       "2  GSM6175780             ISO           L       HY6         6605.885243   \n",
       "3  GSM6175781             ISO           L       HY8         8680.460774   \n",
       "4  GSM6175782             ISO           L       HY9         9390.183982   \n",
       "\n",
       "   ENSTGUG00000003938  ENSTGUG00000011987  ENSTGUG00000017592  \\\n",
       "0         5231.219920         8352.808004         5319.148936   \n",
       "1         4394.224733         8562.769298         5319.148936   \n",
       "2         6068.215108         5824.143723        14893.617021   \n",
       "3         4603.473530         8215.876725         5319.148936   \n",
       "4         7951.454279         6837.435186         4255.319149   \n",
       "\n",
       "   ENSTGUG00000009442  ENSTGUG00000009764  ...  ENSTGUG00000010786  \\\n",
       "0         6991.276372         7795.007878  ...         9225.899161   \n",
       "1         6836.602116         6302.346795  ...         6810.088094   \n",
       "2         7950.256759        10448.627581  ...         7289.085116   \n",
       "3         6248.839943        14760.759599  ...         8705.250224   \n",
       "4         6094.165687         7795.007878  ...         5706.312348   \n",
       "\n",
       "   ENSTGUG00000004644  ENSTGUG00000006386  ENSTGUG00000017785  \\\n",
       "0         8094.573516        10803.531348                 0.0   \n",
       "1         7109.432723         7825.826725                 0.0   \n",
       "2         6075.034890         5910.519228                 0.0   \n",
       "3         7142.270750         5820.739189                 0.0   \n",
       "4         5615.302520         4354.331887                 0.0   \n",
       "\n",
       "   ENSTGUG00000001573  ENSTGUG00000014656  ENSTGUG00000003563  \\\n",
       "0            0.000000            0.000000         4415.388212   \n",
       "1            0.000000            0.000000         4562.268065   \n",
       "2        10695.187166         3636.363636         3956.763368   \n",
       "3       139037.433155        18181.818182         4622.219025   \n",
       "4            0.000000        18181.818182         3797.893323   \n",
       "\n",
       "   ENSTGUG00000002845  ENSTGUG00000009990  ENSTGUG00000001666  \n",
       "0         5699.138502         9239.730843        13426.303687  \n",
       "1         4903.909874         4854.206421         8753.059862  \n",
       "2         2915.838304         5825.047705         8159.632075  \n",
       "3         7554.671968         7331.525560         8604.702915  \n",
       "4         3180.914513         5255.933849         6527.705660  \n",
       "\n",
       "[5 rows x 18622 columns]"
      ]
     },
     "metadata": {},
     "output_type": "display_data"
    }
   ],
   "source": [
    "import pandas as pd\n",
    "\n",
    "# Load the dataset\n",
    "df = pd.read_csv('./dataset/transformed_dataset.csv')\n",
    "\n",
    "# Function to calculate CPM\n",
    "def calculate_cpm(df):\n",
    "    total_reads = df.sum(axis=0)\n",
    "    cpm = (df / total_reads) * 1e6\n",
    "    return cpm\n",
    "\n",
    "# Apply CPM normalization (excluding metadata columns)\n",
    "metadata_cols = ['sample_id', 'social_settting', 'study_group', 'tissue_id']\n",
    "expression_data = df.drop(columns=metadata_cols)\n",
    "normalized_df = calculate_cpm(expression_data)\n",
    "\n",
    "# Combine the normalized data with the metadata\n",
    "normalized_df = pd.concat([df[metadata_cols], normalized_df], axis=1)\n",
    "\n",
    "# Save the normalized dataset\n",
    "normalized_df.to_csv('./dataset/normalized_dataset.csv', index=False)\n",
    "\n",
    "# Display the first few rows of the normalized dataset\n",
    "display(normalized_df.head())"
   ]
  },
  {
   "cell_type": "markdown",
   "metadata": {
    "pycharm": {
     "name": "#%% md\n"
    }
   },
   "source": [
    "### Exploratory Data Analysis: Uncovering Patterns in Gene Expression\n",
    "\n",
    "Exploratory Data Analysis (EDA) is an essential phase in RNA-Seq data analysis, aimed at visualizing and summarizing data to uncover underlying patterns and trends. For this demonstration, we'll focus on visualizing gene expression differences across study groups ('L' for LPS treatment and 'S' for control) and social settings.\n",
    "\n",
    "**Key Focus Areas for Our Visualization:**\n",
    "1. **Comparing 'L' and 'S' Study Groups**: This helps us understand the impact of LPS treatment versus control on gene expression.\n",
    "2. **Role of Social Settings**: We'll also explore how different social interactions might influence gene expression patterns.\n",
    "\n",
    "This demonstration is a starting point for EDA. You are encouraged to explore various aspects of the data through diverse visualizations and analyses."
   ]
  },
  {
   "cell_type": "code",
   "execution_count": 3,
   "metadata": {
    "pycharm": {
     "name": "#%%\n"
    }
   },
   "outputs": [
    {
     "data": {
      "image/png": "[encoded data removed]",
      "text/plain": [
       "<Figure size 864x432 with 1 Axes>"
      ]
     },
     "metadata": {
      "needs_background": "light"
     },
     "output_type": "display_data"
    }
   ],
   "source": [
    "import pandas as pd\n",
    "import seaborn as sns\n",
    "import matplotlib.pyplot as plt\n",
    "\n",
    "# Load the normalized dataset\n",
    "df = pd.read_csv('./dataset/normalized_dataset.csv')\n",
    "\n",
    "# Select a gene for visualization (example: 'ENSTGUG00000004743', which is Brain-Derived Neurotrophic Factor gene)\n",
    "selected_gene = 'ENSTGUG00000004743'\n",
    "\n",
    "# Map the social setting abbreviations to full descriptions\n",
    "social_setting_map = {\n",
    "    'ISO': 'Isolated',\n",
    "    'KFC': 'Known Female Continuous',\n",
    "    'KF': 'Known Female Reunited',\n",
    "    'NF': 'Novel Female'\n",
    "}\n",
    "df['social_settting'] = df['social_settting'].map(social_setting_map)\n",
    "\n",
    "# Create a boxplot comparing gene expression across study groups and social settings\n",
    "plt.figure(figsize=(12, 6))\n",
    "sns.boxplot(x='social_settting', y=selected_gene, hue='study_group', data=df, palette=\"Set2\")\n",
    "plt.title('Gene Expression of ' + selected_gene + ' Across Study Groups and Social Settings')\n",
    "plt.ylabel('Expression Level (CPM)')\n",
    "plt.xlabel('Social Setting')\n",
    "plt.legend(title='Study Group')\n",
    "plt.show()\n"
   ]
  },
  {
   "cell_type": "markdown",
   "metadata": {
    "pycharm": {
     "name": "#%% md\n"
    }
   },
   "source": [
    "**Write down your interpretation of the result of this simple barplot, that displays expression level of `BDNF` gene. First, briefly describe `BDNF` and it's function. Then, write your interpretation about any notable observation you see from the plot**\n",
    "\n",
    "**_Your Answer_**:\n",
    "\n",
    "The BDNF (Brain-Derived Neurotrophic Factor) is a gene that provides instructions for producing a protein called BDNF. BDNF plays a key role in promoting the survival of existing neurons and encouraging the growth and differentiation of new neurons and synapses. The primary function of BDNF is neurotrophic support, which means it helps to nourish and support the health and vitality of neurons. This protein promotes the survival of nerve cells by playing a role in the maintenance of these cells. Since BDNF supports the health and survival of nerve cells, the higher expression of the BDNF gene can indicate the greater health of the nerve cells examined in this experiment.\n",
    "\n",
    "First, we compare different S groups with each other. As it is clear from the dimensions of the boxes in the boxplot, the isolation of a bird can lead to a lower expression level of the BDNF gene in it. On the other hand among the L groups, despite the fact that the expression level of the BDNF gene is still affected by the social status of the bird, this effect is much less than the other group.\n",
    "\n",
    "In the novel female setting, the difference in gene expression level between the simulated sicks and others is very high. This shows the birds that have this social status are more affected by the sickness.\n",
    "\n",
    "In the isolated birds, there is no significant difference between the gene expression levels of the two groups. Of course, the gene expression level of both groups is very low. It can be concluded that the effect of loneliness on reducing the expression of this gene is more observable than the effect of sickness.\n",
    "\n",
    "\n",
    "\n",
    "<blockquote style=\"font-family:Arial; color:red; font-size:16px; border-left:0px solid red; padding: 10px;\">\n",
    "    <strong>Don't forget to answer this question!</strong>\n",
    "</blockquote>"
   ]
  },
  {
   "cell_type": "markdown",
   "metadata": {
    "pycharm": {
     "name": "#%% md\n"
    }
   },
   "source": [
    "### Diverse Visualization Techniques for Gene Expression Data\n",
    "\n",
    "A comprehensive exploration of gene expression data requires a multifaceted visualization approach. Beyond the boxplot, we will delve into additional techniques that can bring forth deeper insights from our dataset. You are tasked with implementation and interpretation of the results of at least one of the following visualization methods:\n",
    "\n",
    "- **PCA (Principal Component Analysis)**: This technique reduces the dimensionality of the data and can reveal the underlying structure by capturing the most variation across samples.\n",
    "- **t-SNE (t-Distributed Stochastic Neighbor Embedding)**: Particularly useful for visualizing high-dimensional data in a lower-dimensional space, t-SNE can help identify clusters of genes or samples.\n",
    "- **UMAP (Uniform Manifold Approximation and Projection)**: Similar to t-SNE, UMAP is useful for visualization and can be faster and more scalable.\n",
    "\n",
    "In addition to these, consider the following methods to further dissect the dataset:\n",
    "\n",
    "- **Histograms and Density Plots**: Useful for showing the distribution of gene expression levels within individual samples or conditions.\n",
    "- **Boxplots and Violin Plots**: These can summarize the distributions and highlight potential outliers in gene expression levels across samples.\n",
    "- **Scatter Plots**: When exploring the relationship between different conditions, scatter plots can be particularly revealing.\n",
    "- **Volcano Plots**: Ideal for showcasing differential expression results, highlighting genes with significant fold changes and statistical significance.\n",
    "\n",
    "Each method will contribute to a holistic view of the dataset, enabling you to uncover patterns and anomalies that may not be apparent through a single visualization strategy.\n"
   ]
  },
  {
   "cell_type": "markdown",
   "metadata": {
    "pycharm": {
     "name": "#%% md\n"
    }
   },
   "source": [
    "#### **Your Turn to Explore**\n",
    "\n",
    "- **Experiment with Different Genes**: Change the `selected_gene` variable to analyze other genes of interest.\n",
    "- **Diverse Visualizations**: Consider using heatmaps, violin plots, or scatter plots for different perspectives.\n",
    "- **Incorporate Statistical Analyses**: Complement visual insights with statistical tests to discern if the differences you observe are significant.\n",
    "\n",
    "Remember, the goal is to thoroughly understand the dataset, paving the way for more in-depth analyses like differential gene expression or clustering."
   ]
  },
  {
   "cell_type": "code",
   "execution_count": 56,
   "metadata": {
    "pycharm": {
     "name": "#%%\n"
    }
   },
   "outputs": [],
   "source": [
    "### TODO ###"
   ]
  },
  {
   "cell_type": "markdown",
   "metadata": {
    "pycharm": {
     "name": "#%% md\n"
    }
   },
   "source": [
    "### Reflecting on Visualizations to Extract Key Insights\n",
    "\n",
    "As we have navigated through different visualization strategies, it's time to consolidate the knowledge you've gained. Reflect on the insights each visualization has provided:\n",
    "\n",
    "- **What trends have you observed in the distribution of gene expression levels?**\n",
    "- **How do the expression levels compare when you look across different conditions or samples?**\n",
    "- **From the heatmap, were you able to detect any consistent patterns of expression, such as upregulation or downregulation of certain genes?**\n",
    "- **Did any outliers or unusual expression patterns emerge? What might these suggest about certain genes or the overall data quality?**\n",
    "\n",
    "Write down your observations and hypotheses. Discuss and note down your interpretations as they will be valuable for the upcoming stages of differential gene expression analysis.\n",
    "\n",
    "**_Your Answer_**:"
   ]
  },
  {
   "cell_type": "markdown",
   "metadata": {
    "pycharm": {
     "name": "#%% md\n"
    }
   },
   "source": [
    "---"
   ]
  },
  {
   "cell_type": "markdown",
   "metadata": {
    "pycharm": {
     "name": "#%% md\n"
    }
   },
   "source": [
    "### Differential Gene Expression Analysis\n",
    "\n",
    "After exploring the general patterns in our dataset, the next step is Differential Gene Expression (DGE) analysis. This process will help us identify genes whose expression levels significantly differ across treatments or social settings.\n",
    "\n",
    "#### Addressing High Dimensionality in RNA-Seq Data for Differential Gene Expression Analysis\n",
    "\n",
    "In RNA-Seq data, high dimensionality (a large number of genes) presents several analytical challenges. This complexity can obscure meaningful biological insights and impact the statistical power of our analyses.\n",
    "\n",
    "**Challenges of High Dimensionality**:\n",
    "1. **Statistical Power Loss**: With too many variables (genes), the risk of finding false positives increases, known as the 'multiple testing problem'.\n",
    "2. **Overfitting Risk**: High-dimensional data can lead to models that are too complex, capturing noise rather than true underlying patterns.\n",
    "3. **Computational Intensity**: Analyzing thousands of genes simultaneously demands significant computational resources and time.\n",
    "4. **Interpretation Difficulty**: It becomes challenging to interpret results and extract biologically meaningful conclusions from a vast pool of data.\n",
    "\n",
    "**Addressing These Challenges**:\n",
    "1. **Dimensionality Reduction**: Techniques like PCA (Principal Component Analysis) and t-SNE (t-Distributed Stochastic Neighbor Embedding) help in reducing the number of dimensions, making the data more manageable and revealing hidden structures.\n",
    "2. **RNA-Seq Specific Tools for DGE Analysis**: Tools like DESeq2 and edgeR (available in Python through rpy2 or similar interfaces) are designed to handle high-dimensional data. They offer:\n",
    "   - **Normalization and Variance Stabilization**: Tailored for RNA-Seq data, ensuring fair comparisons across samples.\n",
    "   - **FDR Control**: Implement procedures to adjust for multiple comparisons, reducing false positives.\n",
    "   - **Biological Variance Modeling**: Consider the biological variability, enhancing the reliability of results.\n",
    "\n",
    "**Python Implementation**:\n",
    "- In python environments, the use of R-based tools like DESeq2 or edgeR is possible through interfaces such as `rpy2`. This approach allows you to leverage the strengths of these tools while working within a Python framework. However, as stated multiple times in this project, you have freedom to choose alternative method for any task, as long as it makes sense. \n",
    "\n"
   ]
  },
  {
   "cell_type": "code",
   "execution_count": null,
   "metadata": {
    "pycharm": {
     "name": "#%%\n"
    }
   },
   "outputs": [],
   "source": [
    "### TODO ###\n",
    "# Placeholder for PCA Analysis. \n",
    "\n",
    "from sklearn.decomposition import PCA\n",
    "from sklearn.preprocessing import StandardScaler\n",
    "import matplotlib.pyplot as plt\n",
    "\n",
    "# Note: Before applying PCA, it's important to standardize the data\n",
    "# Example: Standardize the gene expression data (excluding metadata columns)\n",
    "\n",
    "# Load your expression data here\n",
    "# expression_data = ...\n",
    "\n",
    "# Standardize the data\n",
    "scaler = StandardScaler()\n",
    "expression_scaled = scaler.fit_transform(expression_data)\n",
    "\n",
    "# Apply PCA\n",
    "pca = PCA(n_components=2)\n",
    "principal_components = pca.fit_transform(expression_scaled)\n",
    "\n",
    "# Plot the PCA results\n",
    "plt.figure(figsize=(10, 8))\n",
    "plt.scatter(principal_components[:, 0], principal_components[:, 1])\n",
    "plt.xlabel('Principal Component 1')\n",
    "plt.ylabel('Principal Component 2')\n",
    "plt.title('PCA of Gene Expression Data')\n",
    "plt.show()\n",
    "\n",
    "# Tip: Explore the variance ratio to decide on the number of components\n",
    "# Tip: Use annotations or different colors to highlight groups based on treatment or social settings\n"
   ]
  },
  {
   "cell_type": "code",
   "execution_count": null,
   "metadata": {
    "pycharm": {
     "name": "#%%\n"
    }
   },
   "outputs": [],
   "source": [
    "### TODO ###\n",
    "# Placeholder for using a common RNA-Seq analysis tool from Python\n",
    "\n",
    "import subprocess\n",
    "\n",
    "# Example: Using DESeq2 via R for Differential Gene Expression Analysis\n",
    "# DESeq2 is a popular tool for RNA-Seq data, particularly useful for identifying differentially expressed genes\n",
    "\n",
    "# Define the paths and necessary arguments\n",
    "r_script_path = 'path/to/deseq2_analysis.R'\n",
    "input_file_path = 'path/to/normalized_dataset.csv'  # CSV file path\n",
    "output_file_path = 'path/to/deseq2_output.csv'      # Path to save the DESeq2 output\n",
    "\n",
    "# Construct the command to run the R script using subprocess\n",
    "command = ['Rscript', r_script_path, input_file_path, output_file_path]\n",
    "\n",
    "# Run the command\n",
    "subprocess.run(command)\n",
    "\n",
    "# Tips and Hints:\n",
    "# - Ensure that R and DESeq2 are installed in your environment.\n",
    "# - The R script should be written to take input and output file paths as arguments.\n",
    "# - The script should handle the reading of the CSV file, applying DESeq2, and writing the results back to a CSV.\n",
    "# - In the R script, consider using additional metadata columns (like 'study_group', 'social_settting') as part of the DESeq2 design formula to account for these factors in the analysis.\n",
    "# - You can capture the output and errors from the subprocess to check if the script ran successfully.\n",
    "# - For Python users not familiar with R, consider using Python alternatives or interfaces such as rpy2 to work with DESeq2.\n"
   ]
  },
  {
   "cell_type": "markdown",
   "metadata": {
    "pycharm": {
     "name": "#%% md\n"
    }
   },
   "source": [
    "### Identifying Differentially Expressed Genes (DEGs)\n",
    "\n",
    "The core of our RNA-Seq analysis lies in identifying Differentially Expressed Genes (DEGs) between different conditions, such as LPS treatment vs control, and across social settings. Identifying DEGs helps in pinpointing specific genes that are responsive to our experimental treatments.\n",
    "\n",
    "**Freedom in Methodology**:\n",
    "- You are free to choose your preferred method or tool for DEG analysis. Whether it's DESeq2, edgeR, or any other method, the key is to reliably identify genes that show statistically significant differences in expression.\n",
    "\n",
    "### Interpreting the Findings\n",
    "\n",
    "After identifying DEGs, the next crucial step is interpreting these findings. This involves understanding the biological functions and pathways these genes are involved in.\n",
    "\n",
    "**Functional Annotation and Pathway Analysis**:\n",
    "- Utilize databases like Gene Ontology (GO), Kyoto Encyclopedia of Genes and Genomes (KEGG), or DAVID for functional annotation.\n",
    "- Interpret the roles of these genes in biological processes, cellular components, and molecular functions.\n",
    "\n",
    "### Visualization for Insightful Understanding\n",
    "\n",
    "A critical aspect of this phase is visualization. Effective visualizations can provide profound insights into the data and help in communicating your findings.\n",
    "\n",
    "**Visualizations Can Include**:\n",
    "- Heatmaps of DEGs.\n",
    "- Volcano plots showing the significance vs. fold-change.\n",
    "- Pathway diagrams to illustrate the affected biological pathways.\n",
    "\n",
    "### Emphasis on Interpretation and Informative Visualization\n",
    "\n",
    "Remember, the ultimate goal is to not only identify DEGs but to also understand their biological significance and visually represent this information in an insightful and informative manner. Your interpretations and visualizations are crucial for translating raw data into meaningful biological insights.\n"
   ]
  },
  {
   "cell_type": "code",
   "execution_count": 58,
   "metadata": {
    "pycharm": {
     "name": "#%%\n"
    }
   },
   "outputs": [],
   "source": [
    "### TODO ###\n",
    "# Placeholder for DEG Analysis, Interpretation, and Visualization\n",
    "\n",
    "# Step 1: DEG Analysis\n",
    "# Use your chosen tool/method to identify DEGs\n",
    "# Example: results = DESeq2_DEG_analysis(input_file)\n",
    "\n",
    "# Step 2: Functional Annotation\n",
    "# Utilize online databases or tools for gene annotation\n",
    "# Example: annotated_genes = annotate_genes(results['gene_id'])\n",
    "\n",
    "# Step 3: Pathway Analysis\n",
    "# Map the DEGs to biological pathways\n",
    "# Example: pathways = map_to_pathways(annotated_genes)\n",
    "\n",
    "# Step 4: Visualization\n",
    "# Create insightful visualizations of the DEGs\n",
    "# Example: create_heatmap(results)\n",
    "# Example: create_volcano_plot(results)\n",
    "# Example: plot_pathways(pathways)\n",
    "\n",
    "# Remember to interpret your findings in the context of the biological questions and hypotheses you are exploring.\n",
    "# Consider the biological significance of the DEGs and their roles in the context of your study."
   ]
  }
 ],
 "metadata": {
  "kernelspec": {
   "display_name": "Python 3",
   "language": "python",
   "name": "python3"
  },
  "language_info": {
   "codemirror_mode": {
    "name": "ipython",
    "version": 3
   },
   "file_extension": ".py",
   "mimetype": "text/x-python",
   "name": "python",
   "nbconvert_exporter": "python",
   "pygments_lexer": "ipython3",
   "version": "3.10.5"
  }
 },
 "nbformat": 4,
 "nbformat_minor": 2
}