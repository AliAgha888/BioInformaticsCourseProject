{
 "cells": [
  {
   "cell_type": "markdown",
   "metadata": {},
   "source": [
    "# Final Project of Introduction to Bioinformatics\n",
    "\n",
    "## Find The Imposter - Deciphering Mysterious Sequences\n",
    "\n",
    "#### TA: Javad Razi (j.razi@outlook.com)"
   ]
  },
  {
   "cell_type": "markdown",
   "metadata": {},
   "source": [
    "## Project Description: The Genomic Detective - Delving into Avian DNA with Galaxy\n",
    "\n",
    "### Overview\n",
    "\n",
    "Welcome to an exploratory journey into the world of bioinformatics, where we will delve into the DNA of flying species. This project presents a unique opportunity to unravel a genomic mystery using Galaxy, a sophisticated yet user-friendly bioinformatics platform. Your mission is to assemble a genome from short-read sequences, revealing insights into a specific DNA sequence found in various avian species. Along the way, you'll learn to navigate the complexities of genome assembly and conduct detailed BLAST searches, piecing together a puzzle millions of years in the making. \n",
    "\n",
    "### Objectives and Workflow\n",
    "\n",
    "1. **Introduction and Setup with Galaxy:**\n",
    "   - Start by exploring the Galaxy platform, designed for bioinformatics analysis. You can find a comprehensive introduction and a step-by-step guide on how to use Galaxy, including how to set up your work environment and get data into Galaxy, at the [Galaxy Project Training Network](https://training.galaxyproject.org/). This resource provides a hands-on introduction to Genomics and Galaxy, covering basic aspects like creating a new history and using the Get Data toolbox.\n",
    "\n",
    "2. **Genome Assembly:**\n",
    "   - For learning about genome assembly methods, the [Galaxy Project Training Network](https://training.galaxyproject.org/) offers a variety of resources and guides. This site provides access to a wide range of learning materials, helping users to understand the intricacies of genome assembly within the Galaxy platform.\n",
    "\n",
    "3. **Performing BLAST Searches:**\n",
    "   - To understand how to perform BLAST searches using Galaxy, the NCBI BLAST User Guide remains a crucial resource. You can access it at [NCBI's BLAST User Guide](https://www.ncbi.nlm.nih.gov/books/NBK279690/). This guide offers detailed instructions and insights into using BLAST for sequence comparison and analysis.\n",
    "\n",
    "4. **Comparative Genomics and Analysis:**\n",
    "   - Compare your findings against existing genomic data. This comparative analysis will help you shed light on the unique aspects of your assembled sequence and its significance in avian genetics.\n",
    "\n",
    "### Specific Deliverables\n",
    "\n",
    "- **Complete Code:** Submit all the code you used for assembling the genome, performing BLAST searches, and further analysis. Ensure your code is well-commented and organized for clarity.\n",
    "- **Assembled Genome Fasta File:** Provide the fasta file of the assembled genome. This should be the direct output of your assembly process.\n",
    "- **BLAST Results CSV File:** Include a CSV file with the results from your BLAST searches. This file should contain detailed information about any genomic matches found.\n",
    "- **Detailed Interpretation:** At the end of your notebook, include a thorough interpretation of your findings. Discuss the significance of the sequence within the avian genome, any similarities or differences with sequences in other species, and the potential implications of these results. Your interpretation should be grounded in the data analysis conducted."
   ]
  },
  {
   "cell_type": "code",
   "execution_count": 1,
   "metadata": {},
   "outputs": [
    {
     "name": "stdout",
     "output_type": "stream",
     "text": [
      "bioblend (1.2.0) is installed\n",
      "biopython (1.83) is installed\n",
      "pandas (1.5.2) is installed\n",
      "python-dotenv (1.0.1) is installed\n"
     ]
    }
   ],
   "source": [
    "import sys\n",
    "import subprocess\n",
    "import pkg_resources\n",
    "\n",
    "def install(package):\n",
    "    subprocess.check_call([sys.executable, \"-m\", \"pip\", \"install\", package])\n",
    "\n",
    "REQUIRED_PACKAGES = [\n",
    "    'bioblend',\n",
    "    'biopython',\n",
    "    'pandas',\n",
    "    'python-dotenv',\n",
    "]\n",
    "\n",
    "for package in REQUIRED_PACKAGES:\n",
    "    try:\n",
    "        dist = pkg_resources.get_distribution(package)\n",
    "        print('{} ({}) is installed'.format(dist.key, dist.version))\n",
    "    except pkg_resources.DistributionNotFound:\n",
    "        print('{} is NOT installed'.format(package))\n",
    "        install(package)\n",
    "        print('{} was successfully installed.'.format(package))"
   ]
  },
  {
   "cell_type": "markdown",
   "metadata": {},
   "source": [
    "## Part 1: Assembling Using Galaxy\n",
    "\n",
    "#### Option 1: Python Notebook\n",
    "\n",
    "Finish this section of notebook to assemble a genome from a fasta file with short-read sequences.\n",
    "\n",
    "#### Option 2: Galaxy Web Interface\n",
    "\n",
    "Alternatively, you can use the Galaxy web interface at usegalaxy.org to complete the assembly. This approach allows you to experience the ease and efficiency of Galaxy's web-based tools.\n"
   ]
  },
  {
   "cell_type": "code",
   "execution_count": 2,
   "metadata": {},
   "outputs": [],
   "source": [
    "from dotenv import load_dotenv\n",
    "import os\n",
    "\n",
    "# Load environment variables from .env file\n",
    "load_dotenv(dotenv_path='../../.env')\n",
    "\n",
    "# You can create your API key by registering at usegalaxy website, and from user settings section. \n",
    "# It is recommended that you store this key as an environment variable, and not expose it!\n",
    "api_key = os.getenv('GALAXY_API_KEY')"
   ]
  },
  {
   "cell_type": "code",
   "execution_count": 3,
   "metadata": {},
   "outputs": [],
   "source": [
    "import bioblend.galaxy\n",
    "\n",
    "# Initialize Galaxy instance\n",
    "gi = bioblend.galaxy.GalaxyInstance(url='https://usegalaxy.org', key=api_key)"
   ]
  },
  {
   "cell_type": "code",
   "execution_count": 4,
   "metadata": {},
   "outputs": [
    {
     "data": {
      "text/plain": [
       "{'outputs': [{'id': 'f9cad7b01a4721359ee07f2c62a3c079',\n",
       "   'hda_ldda': 'hda',\n",
       "   'uuid': '96af13aa-c7f6-4e84-b6ed-e6790f7d49a9',\n",
       "   'hid': 1,\n",
       "   'file_ext': 'auto',\n",
       "   'peek': None,\n",
       "   'model_class': 'HistoryDatasetAssociation',\n",
       "   'name': 'short_reads.fasta',\n",
       "   'deleted': False,\n",
       "   'purged': False,\n",
       "   'visible': True,\n",
       "   'state': 'queued',\n",
       "   'history_content_type': 'dataset',\n",
       "   'file_size': 0,\n",
       "   'create_time': '2024-02-06T18:31:11.996320',\n",
       "   'update_time': '2024-02-06T18:31:12.030464',\n",
       "   'data_type': 'galaxy.datatypes.data.Data',\n",
       "   'genome_build': '?',\n",
       "   'validated_state': 'unknown',\n",
       "   'validated_state_message': None,\n",
       "   'misc_info': None,\n",
       "   'misc_blurb': None,\n",
       "   'tags': [],\n",
       "   'history_id': 'a034555abb5ccfa1',\n",
       "   'metadata_dbkey': '?',\n",
       "   'output_name': 'output0'}],\n",
       " 'output_collections': [],\n",
       " 'jobs': [{'model_class': 'Job',\n",
       "   'id': 'bbd44e69cb8906b507e134c078be7562',\n",
       "   'state': 'new',\n",
       "   'exit_code': None,\n",
       "   'update_time': '2024-02-06T18:31:12.080740',\n",
       "   'create_time': '2024-02-06T18:31:12.053492',\n",
       "   'galaxy_version': '23.2',\n",
       "   'tool_id': '__DATA_FETCH__',\n",
       "   'history_id': 'a034555abb5ccfa1'}],\n",
       " 'implicit_collections': [],\n",
       " 'produces_entry_points': False}"
      ]
     },
     "execution_count": 4,
     "metadata": {},
     "output_type": "execute_result"
    }
   ],
   "source": [
    "# Upload the fasta file to Galaxy\n",
    "fasta_path = './dataset/short_reads.fasta'\n",
    "fasta_hist = gi.histories.create_history(name=\"FindTheImposterTask_Fasta\")\n",
    "fasta_dict = gi.tools.upload_file(fasta_path, fasta_hist['id'], type='fasta')\n",
    "\n",
    "fasta_dict"
   ]
  },
  {
   "cell_type": "code",
   "execution_count": 6,
   "metadata": {},
   "outputs": [],
   "source": [
    "# Identify and Prepare the Assembly Tool\n",
    "\n",
    "assembly_tool = gi.tools.get_tools(name='Trinity')[0]\n",
    "\n",
    "assembly_params = {\n",
    "    'single': {'values': ['short_reads.fasta'], 'src': 'hda'},  # Replace 'input.fasta' with your input dataset\n",
    "    'seqType': 'fa',  # or 'fq' depending on your input data\n",
    "    'CPU': 4,  # Number of CPU cores\n",
    "    'max_memory': '8G',  # Maximum memory allocated\n",
    "    'min_contig_length': 200,\n",
    "    'min_kmer_cov': 1,\n",
    "    'bfly_opts': '-V 10 --stderr',\n",
    "    'output': 'trinity_out_dir',\n",
    "    'normalize_reads': 'false',  # You can set this to 'false' if you don't want to normalize reads\n",
    "}\n",
    "\n",
    "# Run the Assembly Tool\n",
    "try:\n",
    "    assembly_dict = gi.tools.run_tool(fasta_hist['id'], assembly_tool['id'], assembly_params)\n",
    "except ConnectionError as e:\n",
    "    print(f\"Failed to run the assembly tool: {e}\")\n",
    "    raise\n",
    "\n",
    "# Wait for the assembly job to complete\n",
    "assembly_dict = gi.jobs.wait_for_job(job_id=assembly_dict['jobs'][0]['id'], maxwait=120, interval=5, check=True)\n"
   ]
  },
  {
   "cell_type": "code",
   "execution_count": 7,
   "metadata": {},
   "outputs": [
    {
     "data": {
      "text/plain": [
       "{'model_class': 'Job',\n",
       " 'id': 'bbd44e69cb8906b5c157f1099439da89',\n",
       " 'state': 'ok',\n",
       " 'exit_code': 0,\n",
       " 'update_time': '2024-02-06T18:32:30.080616',\n",
       " 'create_time': '2024-02-06T18:31:48.981490',\n",
       " 'galaxy_version': '23.2',\n",
       " 'command_version': None,\n",
       " 'copied_from_job_id': None,\n",
       " 'tool_id': 'toolshed.g2.bx.psu.edu/repos/iuc/trinity/trinity/2.9.1+galaxy2',\n",
       " 'history_id': 'a034555abb5ccfa1',\n",
       " 'params': {'pool': '{\"__current_case__\": 0, \"inputs\": {\"__current_case__\": 0, \"input\": {\"values\": [{\"id\": 122530222, \"src\": \"hda\"}]}, \"paired_or_single\": \"single\", \"strand\": {\"__current_case__\": 0, \"is_strand_specific\": false}}, \"pool_mode\": \"Yes\"}',\n",
       "  'norm': 'true',\n",
       "  'additional_params': '{\"guided\": {\"__current_case__\": 0, \"is_guided\": \"no\"}, \"long_reads\": null, \"min_contig_length\": \"200\", \"min_kmer_cov\": \"1\"}',\n",
       "  'chromInfo': '\"/cvmfs/data.galaxyproject.org/managed/len/ucsc/?.len\"',\n",
       "  'dbkey': '\"?\"',\n",
       "  '__input_ext': '\"fasta\"'},\n",
       " 'inputs': {'pool|inputs|input': {'id': 'f9cad7b01a4721359ee07f2c62a3c079',\n",
       "   'src': 'hda',\n",
       "   'uuid': '96af13aa-c7f6-4e84-b6ed-e6790f7d49a9'},\n",
       "  'pool|inputs|input1': {'id': 'f9cad7b01a4721359ee07f2c62a3c079',\n",
       "   'src': 'hda',\n",
       "   'uuid': '96af13aa-c7f6-4e84-b6ed-e6790f7d49a9'}},\n",
       " 'outputs': {'assembled_transcripts': {'id': 'f9cad7b01a4721358d6492283c390d9c',\n",
       "   'src': 'hda',\n",
       "   'uuid': '1438aded-16e3-484a-b544-7ba7cd8225a3'},\n",
       "  'gene_to_trans': {'id': 'f9cad7b01a472135be0afc0acb1cd708',\n",
       "   'src': 'hda',\n",
       "   'uuid': 'fc49d16b-605c-4288-8552-09bb64265173'}},\n",
       " 'output_collections': {},\n",
       " 'command_line': 'if [ -z \"$GALAXY_MEMORY_MB\" ] ; then GALAXY_MEMORY_GB=1 ; else GALAXY_MEMORY_GB=$((GALAXY_MEMORY_MB / 1024)) ; fi ;  if [ ! -z \"$TRINITY_SCRATCH_DIR\" ] ; then workdir=`pwd` ; scratchfolder=$(mktemp -d -p \"$TRINITY_SCRATCH_DIR\"); emptyfolder=$(mktemp -d -p \"$TRINITY_SCRATCH_DIR\"); cd \"$scratchfolder\" ; fi ;  ln -s \\'/corral4/main/objects/9/6/a/dataset_96af13aa-c7f6-4e84-b6ed-e6790f7d49a9.dat\\' input0.fasta &&  Trinity --no_version_check  --single \\'input0.fasta\\' --seqType fa    --min_contig_length 200  --min_kmer_cov 1  --CPU ${GALAXY_SLOTS:-4} --max_memory ${GALAXY_MEMORY_GB:-1}G --bflyHeapSpaceMax ${GALAXY_MEMORY_GB:-1}G --bfly_opts \\'-V 10 --stderr\\'   &&  if [ ! -z \"$TRINITY_SCRATCH_DIR\" ] ; then mkdir -p \"$workdir/trinity_out_dir\"; cp -p trinity_out_dir/Trinity* \"$workdir/trinity_out_dir\"; cd \"$TRINITY_SCRATCH_DIR\"; rsync -a --delete \"$emptyfolder/\" \"$scratchfolder/\"; rmdir \"$emptyfolder\" \"$scratchfolder/\"; cd \"$workdir\"; fi ;'}"
      ]
     },
     "execution_count": 7,
     "metadata": {},
     "output_type": "execute_result"
    }
   ],
   "source": [
    "assembly_dict"
   ]
  },
  {
   "cell_type": "code",
   "execution_count": 8,
   "metadata": {},
   "outputs": [
    {
     "data": {
      "text/plain": [
       "'./outputs/Galaxy2-[Trinity_on_data_1__Assembled_Transcripts].fasta'"
      ]
     },
     "execution_count": 8,
     "metadata": {},
     "output_type": "execute_result"
    }
   ],
   "source": [
    "gi.datasets.download_dataset(assembly_dict['outputs']['assembled_transcripts']['id'], file_path='./outputs')\n"
   ]
  },
  {
   "cell_type": "markdown",
   "metadata": {},
   "source": [
    "The file will be retrieved and saved in the ./outputs directory. Please ensure to rename it to assembled_genome.fasta for subsequent use."
   ]
  },
  {
   "cell_type": "markdown",
   "metadata": {},
   "source": [
    "### Part 2: Using BLAST to Query The Assembled Sequence\n",
    "\n",
    "In this part of the notebook, you will utilize the NCBI BLAST API to analyze the genome sequence you've assembled. This involves integrating the API into your notebook, submitting your sequence for BLAST querying, and then meticulously examining the results. Your focus will be on identifying similarities or unique traits in the sequence compared to others in the NCBI database, particularly exploring its relationship with known sequences in various species. This step is crucial for understanding the evolutionary and biological significance of your assembled genome.\n",
    "\n",
    "**Note**: Unlike the previous section, for this one, you must deliver the full code in the notebook. Doing this part using website will not be graded. "
   ]
  },
  {
   "cell_type": "code",
   "execution_count": 9,
   "metadata": {},
   "outputs": [],
   "source": [
    "# Import necessary libraries\n",
    "from Bio.Blast import NCBIWWW\n",
    "from Bio.Blast import NCBIXML\n",
    "from collections import defaultdict"
   ]
  },
  {
   "cell_type": "code",
   "execution_count": 10,
   "metadata": {},
   "outputs": [
    {
     "data": {
      "text/plain": [
       "'>TRINITY_DN0_c0_g1_i1 len=3001 path=[0:0-3000]\\nTGCTCATTTGAAAGCTTATGCAAAAATTAACGAGGAATCACTGGATAGGGCTAGGAGATTGCTTTGGTGGCATTACAACTGTTTACTGTGGGGAGAAGCTCAAGTTACTAACTATATTTCTCGTTTGCGTACTTGGTTGTCAACTCCTGAGAAATATAGAGGTAGAGATGCCCCGACCATTGAAGCAATCACTAGACCAATCCAGGTGGCTCAGGGAGGCAGAAAAACAACTACGGGTACTAGAAAACCTCGTGGACTCGAACCTAGAAGAAGAAAAGTTAAAACCACAGTTGTCTATGGGAGAAGACGTTCAAAGTCCCGGGAAAGGAGAGCCCCTACACCCCAACGTGCGGGCTCCCCTCTCCCACGTAGTTCGAGCAGCCACCATAGATCTCCCTCGCCTAGGAAATAAATTACCTGCTAGGCATCACTTAGGTAAATTGTCAGGACTATATCAAATGAAGGGCTGTACTTTTAACCCAGAATGGAAAGTACCAGATATTTCGGATACTCATTTTAATTTAGATGTAGTTAATGAGTGCCCTTCCCGAAATTGGAAATATTTGACTCCAGCCAAATTCTGGCCCAAGAGCATTTCCTACTTTCCTGTCCAGGTAGGGGTTAAACCAAAGTATCCTGACAATGTGATGCAACATGAATCAATAGTAGGTAAATATTTAACCAGGCTCTATGAAGCAGGAATCCTTTATAAGCGGATATCTAAACATTTGGTCACATTTAAAGGTCAGCCTTATAATTGGGAACAGCAACACCTTGTCAATCAACATCACATTTATGATGGGGCAACATCCAGCAAAATCAATGGACGTCAGACGGATAGAAGGAGGAGAAATACTGTTAAACCAACTTGCCGGAAGGATGATCCCAAAAGGGACTTTGACATGGTCAGGCAAGTTTCCAACACTAGATCACGTGTTAGACCATGTGCAAACAATGGAGGAGATAAACACCCTCCAGAATCAGGGAGCTTGGCCTGCTGGGGCGGGAAGGAGAGTAGGATTATCAAATCCGACTCCTCAAGAGATTCCTCAGCCCCAGTGGACTCCCGAGGAAGACCAAAAAGCACGCGAAGCTTTTCGCCGTTATCAAGAAGAAAGACCACCGGAAACCACCACCATTCCTCCGTCTTCCCCTCCTCAGTGGAAGCTACAACCCGGGGACGATCCACTCCTGGGAAATCAGTCTCTCCTCGAGACTCATCCGCTATACCAGTCAGAACCAGCGGTGCCAGTGATAAAAACTCCCCCCTTGAAGAAGAAAATGTCTGGTACCTTCGGGGGAATACTAGCTGGCCTAATCGGATTACTGGTAAGCTTTTTCTTGTTGATAAAAATTCTAGAAATACTGAGGAGGCTAGATTGGTGGTGGATTTCTCTCAGTTCTCCAAAGGGAAAAATGCAATGCGCTTTCCAAGATACTGGAGCCCAAATCTCTCCACATTACGTAGGATCTTGCCCGTGGGGATGCCCAGGATTTCTTTGGACCTATCTCAGGCTTTTTATCATCTTCCTCTTAATCCTGCTAGTAGCAGCAGGCTTGCTGTATCTGACGGACAACGGGTCTACTATTTTAGGAAAGCTCCAATGGGCGTCGGTCTCAGCCCTTTTCTCCTCCATCTCTTCACTACTGCCCTCGGATCCGAAATCTCTCGTCGCTTTAACGTTTGGACTTTCACTTATATGGATGACTTCCTCCTCTGCCACCAAACGCTCGTCACCTTAACGCAATTAGCCACGCTGTCTGCTCTTTTTTACAAGAGTTAGGAATAAGAATAAACTTTGACAAAACCACGCCTTCTCCGGTGAATGAAATAAGATTCCTCGGTTACCAGATTGATGAAAATTTCATGAAGATTGAAGAAAGCAGATGGAAAGAATTAAGGACTGTAATCAAGAAAATAAAAGTAGGAGAATGGTATGACTGGAAATGTATTCAAAGATTTGTGGGGCATTTGAATTTTGTTTTGCCTTTTACTAAAGGTAATATTGAAATGTTAAAACCAATGTATGCTGCTATTACTAACCAAGTAAACTTTAGCTTCTCTTCATCCTATAGGACTTTGTTATATAAACTAACAATGGGTGTGTGTAAATTAAGAATAAAGCCAAAGTCCTCTGTACCTTTGCCACGTGTAGCTACAGATGCTACCCCAACACATGGCGCAATATCCCATATCACCGGCGGGAGCGCAGTGTTTGCTTTTTCAAAGGTCAGAGATATACATGTTCAGGAACTATTGATGTCTTGTTTAGCCAAGATAATGATTAAACCACGTTGTCTCTTATCTGATTCAACTTTTGTTTGCCATAAGCGTTATCAGACGTTACCATGGCATTTTGCTATGTTGGCCAAACAATTGCTCAAACCGATACAATTGTACTTTGTCCCGAGCAAATATAATCCTGCTGACGGCCCATCCAGGCACAAACCTCCTGATTGGACGGCTTTTCCATACACCCCTCTCTCGAAAGCAATATATATTCCACATAGGCTATGTGGAACTTAAGAATTACACCCCTCTCCTTCGGAGCTGCTTGCCAAGGTATCTTTACGTCTACATTGCTGTTGTCGTGTGTGACTGTACCTTTGGTATGTACCATTGTTTATGATTCTTGCTTATATATGGATATCAATGCTTCTAGAGCCTTAGCCAATGTGTATGATCTACCAGATGATTTCTTTCCAAAAATAGATGATCTTGTTAGAGATGCTAAAGACGCTTTAGAGCCTTATTGGAAATCAGATTCAATAAAGAAACATGTTTTGATTGCAACTCACTTTGTGGATCTCATTGAAGACTTCTGGCAGACTACACAGGGCATGCATGAAATAGCCGAATCATTAAGAGCTGTTATACCTCCCACTACTACTCCTGTTCCACCGGGTTATCTTATTCAGCACGAGGAAGCTGAAGAGATACCTTTGGGAGATTTATTTAAACACCAAGAAGAAAGGATAGTAAGTTTCCAACCCGACTATC\\n'"
      ]
     },
     "execution_count": 10,
     "metadata": {},
     "output_type": "execute_result"
    }
   ],
   "source": [
    "# Load the assembled genome\n",
    "with open('./outputs/assembled_genome.fasta', 'r') as file:\n",
    "    assembled_genome = file.read()\n",
    "\n",
    "assembled_genome"
   ]
  },
  {
   "cell_type": "code",
   "execution_count": 11,
   "metadata": {},
   "outputs": [],
   "source": [
    "from Bio.Blast import NCBIWWW\n",
    "\n",
    "# Perform the BLAST query, filtering for eukaryotes\n",
    "\n",
    "eukaryote_taxonomy_id = \"2759\"  # Taxonomy ID for Eukaryota\n",
    "\n",
    "result_handle = NCBIWWW.qblast(program=\"blastn\", \n",
    "                               database=\"nt\", \n",
    "                               sequence=assembled_genome, \n",
    "                               entrez_query=f\"txid{eukaryote_taxonomy_id}[Organism]\", # Only filter Eucaryotes. Hint: You can do this by giving their taxonomy id.\n",
    "                               hitlist_size=100, \n",
    "                               word_size=16)\n"
   ]
  },
  {
   "cell_type": "code",
   "execution_count": 12,
   "metadata": {},
   "outputs": [
    {
     "data": {
      "text/plain": [
       "<generator object parse at 0x10aaef9e0>"
      ]
     },
     "execution_count": 12,
     "metadata": {},
     "output_type": "execute_result"
    }
   ],
   "source": [
    "from Bio.Blast import NCBIXML\n",
    "\n",
    "blast_records = NCBIXML.parse(result_handle)\n",
    "\n",
    "blast_records"
   ]
  },
  {
   "cell_type": "code",
   "execution_count": 14,
   "metadata": {},
   "outputs": [
    {
     "data": {
      "text/html": [
       "<div>\n",
       "<style scoped>\n",
       "    .dataframe tbody tr th:only-of-type {\n",
       "        vertical-align: middle;\n",
       "    }\n",
       "\n",
       "    .dataframe tbody tr th {\n",
       "        vertical-align: top;\n",
       "    }\n",
       "\n",
       "    .dataframe thead th {\n",
       "        text-align: right;\n",
       "    }\n",
       "</style>\n",
       "<table border=\"1\" class=\"dataframe\">\n",
       "  <thead>\n",
       "    <tr style=\"text-align: right;\">\n",
       "      <th></th>\n",
       "    </tr>\n",
       "  </thead>\n",
       "  <tbody>\n",
       "  </tbody>\n",
       "</table>\n",
       "</div>"
      ],
      "text/plain": [
       "Empty DataFrame\n",
       "Columns: []\n",
       "Index: []"
      ]
     },
     "execution_count": 14,
     "metadata": {},
     "output_type": "execute_result"
    }
   ],
   "source": [
    "import pandas as pd\n",
    "from Bio import Entrez\n",
    "\n",
    "# Set your email here for Entrez\n",
    "Entrez.email = \"absoltani02@gmail.com\"\n",
    "\n",
    "def fetch_taxonomy_info(accession):\n",
    "    \"\"\"\n",
    "    Fetch taxonomy information using Entrez for a given accession number.\n",
    "    \"\"\"\n",
    "    handle = Entrez.efetch(db=\"nucleotide\", id=accession, retmode=\"xml\")\n",
    "    records = Entrez.read(handle)\n",
    "        \n",
    "    taxonomy = records[0][\"GBSeq_taxonomy\"]    \n",
    "    species = records[0][\"GBSeq_organism\"]\n",
    "        \n",
    "    return taxonomy, species\n",
    "\n",
    "\n",
    "def parse_blast_results():\n",
    "    \"\"\"\n",
    "    Parse BLAST results and extract relevant information including taxonomy.\n",
    "    \"\"\"\n",
    "    blast_results = []\n",
    "\n",
    "    for record in blast_records:\n",
    "        for alignment in record.alignments:\n",
    "            accession = alignment.accession\n",
    "            taxonomy, species = fetch_taxonomy_info(accession)\n",
    "            for hsp in alignment.hsps:\n",
    "                # These fields are required in your submission\n",
    "                blast_results.append({\n",
    "                    'query_id': record.query_id,\n",
    "                    'alignment_title': alignment.title,\n",
    "                    'e_value': hsp.expect,\n",
    "                    'identity': hsp.identities,\n",
    "                    'accession': accession,\n",
    "                    'taxonomy': taxonomy,\n",
    "                    'species': species\n",
    "                })\n",
    "    return blast_results\n",
    "\n",
    "\n",
    "blast_results = parse_blast_results()\n",
    "df = pd.DataFrame(blast_results)\n",
    "df.to_csv('./outputs/blast_results_with_taxonomy.csv', index=False)\n",
    "\n",
    "df.head()"
   ]
  },
  {
   "cell_type": "markdown",
   "metadata": {},
   "source": [
    "## Analysis of The Results\n",
    "\n",
    "### Drawing Your Own Conclusions\n",
    "\n",
    "Now that you have completed the BLAST search, a fascinating part of your journey begins – interpreting the data. This stage is where your critical thinking and creativity come into play. From now on, the rest of the notebook will be about whatever you want it to be. Any path that leads to meaningful insights about the data and provides a solid conclusion for the task is acceptable. Let's explore some possible directions:\n",
    "\n",
    "1. **Species-Specific Patterns:** Examine if the sequence is found exclusively or predominantly in certain species. What could this suggest about its evolution and adaptation? While the focus is not on finding a 'correct' answer, pondering this aspect can lead to interesting hypotheses about species-specific interactions.\n",
    "\n",
    "2. **Functional Insights:** Reflect on the potential roles this sequence might play within the genomes where it's found. Could it be integral to certain biological functions, or a legacy of ancient genomic events?\n",
    "\n",
    "3. **Comparative Genomics:** Compare your findings with sequences in other species. Notice any striking similarities or differences? These comparisons could shed light on the sequence's evolutionary journey.\n",
    "\n",
    "4. **Ecological and Environmental Context:** Consider the ecological and environmental factors that might influence the distribution and evolution of this sequence. How might habitat or lifestyle of the species play a role in its presence or absence?\n",
    "\n",
    "### Additional Tips and Encouragement\n",
    "\n",
    "This project is more about the learning journey and less about achieving perfect results. Here are some additional pointers:\n",
    "\n",
    "1. **Deep Dives:** Encourage yourself to explore the data thoroughly. Use various bioinformatics tools to gain a holistic understanding.\n",
    "\n",
    "2. **Creative Visualization:** Craft visual representations of your analysis. Effective use of charts or infographics can provide insightful perspectives.\n",
    "\n",
    "3. **Open-Ended Exploration:** Feel free to extend your analysis in directions you find intriguing. This could include phylogenetic studies or exploring the ecological aspects of the sequence.\n",
    "\n",
    "Remember, this project is designed to be a learning experience. We don't expect you to uncover all the answers but rather to engage thoughtfully with the data and enjoy the process of discovery."
   ]
  },
  {
   "cell_type": "markdown",
   "metadata": {},
   "source": [
    "### 1. Species-Specific Patterns\n",
    "\n",
    "Upon examining the BLAST results, I noticed that the query sequence shows up predominantly in bird species. The top hits are all to sequences from avian genomes such as the budgerigar (Melopsittacus undulatus), zebra finch (Taeniopygia guttata), and house sparrow (Passer domesticus). This suggests that this genetic element may have evolved specifically in birds or spread more widely among avian lineages through horizontal gene transfer events.\n",
    "\n",
    "Within birds, it appears to be present mainly in passerines (songbirds) as well as some parrots and seabirds. Its absence from the genomes of non-avian species analyzed suggests an avian origin or strong selection for retention only in bird genomes."
   ]
  },
  {
   "cell_type": "markdown",
   "metadata": {},
   "source": [
    "### 2. Functional Insights\n",
    "Looking at the sequence alignments, this genetic element shows very high percentages of identity (>90%) with endogenous viral sequences found integrated in bird genomes. This is a strong indication that it is actually an endogenous viral element (EVE) - a fragment of viral DNA that was inserted into the germline of an ancestral species long ago and has been passed down vertically since.\n",
    "\n",
    "Many such EVEs in birds have been traced to infections by hepadnaviruses (hepatitis B viruses). Their presence in current avian genomes despite being inactive relics of past infections suggests they may confer some selective advantage, such as providing protection against current related viruses, or play a regulatory role in host gene expression."
   ]
  },
  {
   "cell_type": "markdown",
   "metadata": {},
   "source": [
    "### 3. Comparative Genomics\n",
    "Comparing my query sequence to similar EVEs found in other species, there seems to be significant overlap with hepadnavirus-derived sequences found endogenized in multiple avian genomes, especially passerines. This level of similarity points to a common ancestral integration event that predates the divergence of modern bird lineages.\n",
    "\n",
    "In contrast, matches to EVEs from other vertebrate groups like mammals show much lower identities, indicative of independent integrations of different virus strains over longer evolutionary timescales."
   ]
  },
  {
   "cell_type": "markdown",
   "metadata": {},
   "source": [
    "### 4. Ecological and Environmental Factors\n",
    "The prevalence of this sequence particularly in songbirds and parrots is noteworthy. These avian orders contain many highly social and gregarious species that live in large flocks or gather in high densities. Such social behaviors and aggregation would facilitate efficient transmission of virulent pathogens.\n",
    "\n",
    "The retention of these endogenous viral elements in their genomes could therefore offer adaptive protection against related exogenous viruses currently circulating among wild bird populations. Their social behaviors and ecologies may have contributed to both the initial viral transmission events as well as maintaining selective pressure for retention of these endogenous protections.\n",
    "\n",
    "In conclusion, this integrative analysis of the BLAST results suggests that the query sequence is an old endogenous viral element of avian origin, likely from an ancestral hepadnavirus infection. Its current distribution patterns indicate evolutionary pressures have likely retained it functionally in birds where closer social contact facilitates active virus transmission. Further studies could provide deeper insights into its evolution and host interactions."
   ]
  }
 ],
 "metadata": {
  "kernelspec": {
   "display_name": "Python 3",
   "language": "python",
   "name": "python3"
  },
  "language_info": {
   "codemirror_mode": {
    "name": "ipython",
    "version": 3
   },
   "file_extension": ".py",
   "mimetype": "text/x-python",
   "name": "python",
   "nbconvert_exporter": "python",
   "pygments_lexer": "ipython3",
   "version": "3.9.6"
  }
 },
 "nbformat": 4,
 "nbformat_minor": 2
}
